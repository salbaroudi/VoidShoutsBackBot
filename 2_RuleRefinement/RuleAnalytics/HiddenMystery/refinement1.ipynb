{
 "cells": [
  {
   "cell_type": "markdown",
   "id": "cd66c5a7",
   "metadata": {},
   "source": [
    "## Rule Refinement Template Notebook:\n",
    "\n",
    "In this notebook, it is assumed that data has been mined from twitter and is present in a JSON format, in a local file.\n",
    "\n",
    "This notebook will separate all tweets by tag, and then run sub-section analysis on each of the tag dataframes.\n",
    "\n",
    "Users must manually look through the tweets (sadly), and classify what \"good\" and \"bad\" tweets are. \n",
    "\n",
    "Using simple data tidying, and intuitive methods (set difference between tokenized strings of \"good and bad\" tweets), we attempt to provide information to the user to properly refine their rules, and evaluate recent adjustments to their rules."
   ]
  },
  {
   "cell_type": "code",
   "execution_count": 1,
   "id": "239409f0",
   "metadata": {},
   "outputs": [
    {
     "name": "stdout",
     "output_type": "stream",
     "text": [
      "['Sept10_rule1-4.twts', 'sept9_rule1-4.twts', 'users.csv', 'rule1-4_trial3.twts', 'ProposedRules.txt', 'ruletest2.twts', 'runSept5_rule1-4.twts', 'rule1-4_pubmetrics2.twts', 'selectedtweets.json', 'Sept16_rule1-6.twts', 'parensrules.twts', 'sept11_rule1-4.twts', 'rule1-4_pubmetrics.twts', 'sept12_rule1-4.twts', 'mergedfile_rule1-6.twts', 'Sept14_rule1-6.twts', 'rules3-4_trial2.twts', 'rules1-4_trial1.twts']\n"
     ]
    }
   ],
   "source": [
    "#Load our custom library. Ouputs files in local directory automatically.\n",
    "from mods.dfprocess import *\n",
    "pd.set_option('display.max_rows', 500)"
   ]
  },
  {
   "cell_type": "code",
   "execution_count": 2,
   "id": "629eaf79",
   "metadata": {},
   "outputs": [
    {
     "name": "stdout",
     "output_type": "stream",
     "text": [
      "<class 'pandas.core.frame.DataFrame'>\n",
      "RangeIndex: 4623 entries, 0 to 4622\n",
      "Data columns (total 18 columns):\n",
      " #   Column         Non-Null Count  Dtype \n",
      "---  ------         --------------  ----- \n",
      " 0   tweetid        4623 non-null   int64 \n",
      " 1   text           4623 non-null   object\n",
      " 2   created_at     4623 non-null   object\n",
      " 3   tagid          4623 non-null   int64 \n",
      " 4   tag            4623 non-null   object\n",
      " 5   userid         4623 non-null   int64 \n",
      " 6   username       4623 non-null   object\n",
      " 7   rtcount        4623 non-null   int16 \n",
      " 8   repcount       4623 non-null   int16 \n",
      " 9   likecount      4623 non-null   int16 \n",
      " 10  qtcount        4623 non-null   int16 \n",
      " 11  tweet_type     4623 non-null   object\n",
      " 12  ref_tweetid    4623 non-null   int64 \n",
      " 13  ref_authorid   4623 non-null   int64 \n",
      " 14  ref_rtcount    4623 non-null   int16 \n",
      " 15  ref_repcount   4623 non-null   int16 \n",
      " 16  ref_likecount  4623 non-null   int16 \n",
      " 17  ref_qtcount    4623 non-null   int16 \n",
      "dtypes: int16(8), int64(5), object(5)\n",
      "memory usage: 433.5+ KB\n"
     ]
    }
   ],
   "source": [
    "tweetDF = generatedataframe(\"./data/mergedfile_rule1-6.twts\",5000)               "
   ]
  },
  {
   "cell_type": "markdown",
   "id": "bb1d1dfa",
   "metadata": {},
   "source": [
    "**Conclusion:** Every single tweet had the word \"unbelievable\", and none of them were good.\n",
    "\n",
    "Will have to remove this word, and extend the scope of the filter a bit...(only ~150 tweets collected)"
   ]
  },
  {
   "cell_type": "code",
   "execution_count": null,
   "id": "0e3f259d",
   "metadata": {},
   "outputs": [],
   "source": []
  },
  {
   "cell_type": "code",
   "execution_count": null,
   "id": "c34f37d6",
   "metadata": {},
   "outputs": [],
   "source": []
  }
 ],
 "metadata": {
  "kernelspec": {
   "display_name": "Python 3 (ipykernel)",
   "language": "python",
   "name": "python3"
  },
  "language_info": {
   "codemirror_mode": {
    "name": "ipython",
    "version": 3
   },
   "file_extension": ".py",
   "mimetype": "text/x-python",
   "name": "python",
   "nbconvert_exporter": "python",
   "pygments_lexer": "ipython3",
   "version": "3.8.10"
  }
 },
 "nbformat": 4,
 "nbformat_minor": 5
}

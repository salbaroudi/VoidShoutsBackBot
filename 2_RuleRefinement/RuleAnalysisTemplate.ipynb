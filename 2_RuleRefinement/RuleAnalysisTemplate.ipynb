{
 "cells": [
  {
   "cell_type": "markdown",
   "id": "cd66c5a7",
   "metadata": {},
   "source": [
    "## Rule Refinement Template Notebook:\n",
    "\n",
    "In this notebook, it is assumed that data has been mined from twitter and is present in a JSON format, in a local file.\n",
    "\n",
    "This notebook will separate all tweets by tag, and then run sub-section analysis on each of the tag dataframes.\n",
    "\n",
    "Users must manually look through the tweets (sadly), and classify what \"good\" and \"bad\" tweets are. \n",
    "\n",
    "Using simple data tidying, and intuitive methods (set difference between tokenized strings of \"good and bad\" tweets), we attempt to provide information to the user to properly refine their rules, and evaluate recent adjustments to their rules."
   ]
  },
  {
   "cell_type": "code",
   "execution_count": 1,
   "id": "239409f0",
   "metadata": {},
   "outputs": [
    {
     "name": "stdout",
     "output_type": "stream",
     "text": [
      "['users.csv', 'rule1-4_trial3.twts', 'ProposedRules.txt', 'runSept5_rule1-4.twts', 'hsDF.json', 'rule1-4_pubmetrics2.twts', 'selectedtweets.json', 'parensrules.twts', 'rule1-4_pubmetrics.twts', 'rules3-4_trial2.twts', 'rules1-4_trial1.twts']\n"
     ]
    }
   ],
   "source": [
    "#Load our custom library. Ouputs files in local directory automatically.\n",
    "from mods.dfprocess import *"
   ]
  },
  {
   "cell_type": "code",
   "execution_count": 2,
   "id": "629eaf79",
   "metadata": {},
   "outputs": [
    {
     "name": "stdout",
     "output_type": "stream",
     "text": [
      "<class 'pandas.core.frame.DataFrame'>\n",
      "RangeIndex: 5541 entries, 0 to 5540\n",
      "Data columns (total 18 columns):\n",
      " #   Column         Non-Null Count  Dtype \n",
      "---  ------         --------------  ----- \n",
      " 0   tweetid        5541 non-null   int64 \n",
      " 1   text           5541 non-null   object\n",
      " 2   created_at     5541 non-null   object\n",
      " 3   tagid          5541 non-null   int64 \n",
      " 4   tag            5541 non-null   object\n",
      " 5   userid         5541 non-null   int64 \n",
      " 6   username       5541 non-null   object\n",
      " 7   rtcount        5541 non-null   int16 \n",
      " 8   repcount       5541 non-null   int16 \n",
      " 9   likecount      5541 non-null   int16 \n",
      " 10  qtcount        5541 non-null   int16 \n",
      " 11  tweet_type     5541 non-null   object\n",
      " 12  ref_tweetid    5541 non-null   int64 \n",
      " 13  ref_authorid   5541 non-null   int64 \n",
      " 14  ref_rtcount    5541 non-null   int16 \n",
      " 15  ref_repcount   5541 non-null   int16 \n",
      " 16  ref_likecount  5541 non-null   int16 \n",
      " 17  ref_qtcount    5541 non-null   int16 \n",
      "dtypes: int16(8), int64(5), object(5)\n",
      "memory usage: 519.6+ KB\n"
     ]
    }
   ],
   "source": [
    "tweetDF = generatedataframe(\"./data/runSept5_rule1-4.twts\",5000)\n",
    "                                    "
   ]
  },
  {
   "cell_type": "code",
   "execution_count": 4,
   "id": "b8f082bb",
   "metadata": {},
   "outputs": [],
   "source": [
    "tweetDF = cleanDF(tweetDF)\n",
    "\n"
   ]
  },
  {
   "cell_type": "code",
   "execution_count": 7,
   "id": "b58456f7",
   "metadata": {},
   "outputs": [
    {
     "ename": "Exception",
     "evalue": "Error: TagName Invalid. Check Dataframe!",
     "output_type": "error",
     "traceback": [
      "\u001b[0;31m---------------------------------------------------------------------------\u001b[0m",
      "\u001b[0;31mException\u001b[0m                                 Traceback (most recent call last)",
      "Input \u001b[0;32mIn [7]\u001b[0m, in \u001b[0;36m<cell line: 12>\u001b[0;34m()\u001b[0m\n\u001b[1;32m      9\u001b[0m     subDF\u001b[38;5;241m.\u001b[39mloc[:,[\u001b[38;5;124m\"\u001b[39m\u001b[38;5;124mindex\u001b[39m\u001b[38;5;124m\"\u001b[39m,\u001b[38;5;124m\"\u001b[39m\u001b[38;5;124mtweetid\u001b[39m\u001b[38;5;124m\"\u001b[39m,\u001b[38;5;124m\"\u001b[39m\u001b[38;5;124mtext\u001b[39m\u001b[38;5;124m\"\u001b[39m]]\u001b[38;5;241m.\u001b[39mto_json(path,orient\u001b[38;5;241m=\u001b[39m\u001b[38;5;124m\"\u001b[39m\u001b[38;5;124mrecords\u001b[39m\u001b[38;5;124m\"\u001b[39m,index\u001b[38;5;241m=\u001b[39m\u001b[38;5;28;01mTrue\u001b[39;00m,force_ascii\u001b[38;5;241m=\u001b[39m\u001b[38;5;28;01mFalse\u001b[39;00m)    \n\u001b[1;32m     10\u001b[0m     \u001b[38;5;28;01mreturn\u001b[39;00m subDF\n\u001b[0;32m---> 12\u001b[0m saiDF \u001b[38;5;241m=\u001b[39m \u001b[43mgetTagDF\u001b[49m\u001b[43m(\u001b[49m\u001b[38;5;124;43m\"\u001b[39;49m\u001b[38;5;124;43mSelfAndID\u001b[39;49m\u001b[38;5;124;43m\"\u001b[39;49m\u001b[43m,\u001b[49m\u001b[43m \u001b[49m\u001b[38;5;124;43m\"\u001b[39;49m\u001b[38;5;124;43m./data/saiDF.json\u001b[39;49m\u001b[38;5;124;43m\"\u001b[39;49m\u001b[43m,\u001b[49m\u001b[43mtweetDF\u001b[49m\u001b[43m)\u001b[49m\n",
      "Input \u001b[0;32mIn [7]\u001b[0m, in \u001b[0;36mgetTagDF\u001b[0;34m(tagName, path, dF)\u001b[0m\n\u001b[1;32m      3\u001b[0m tagList \u001b[38;5;241m=\u001b[39m (dF\u001b[38;5;241m.\u001b[39mtag\u001b[38;5;241m.\u001b[39munique())\u001b[38;5;241m.\u001b[39mtolist()\n\u001b[1;32m      4\u001b[0m \u001b[38;5;28;01mif\u001b[39;00m (tagName \u001b[38;5;129;01mnot\u001b[39;00m \u001b[38;5;129;01min\u001b[39;00m tagList):\n\u001b[0;32m----> 5\u001b[0m     \u001b[38;5;28;01mraise\u001b[39;00m \u001b[38;5;167;01mException\u001b[39;00m(\u001b[38;5;124m\"\u001b[39m\u001b[38;5;124mError: TagName Invalid. Check Dataframe!\u001b[39m\u001b[38;5;124m\"\u001b[39m)\n\u001b[1;32m      6\u001b[0m subDF \u001b[38;5;241m=\u001b[39m (dF[tweetDF[\u001b[38;5;124m\"\u001b[39m\u001b[38;5;124mtag\u001b[39m\u001b[38;5;124m\"\u001b[39m] \u001b[38;5;241m==\u001b[39m tagName])\u001b[38;5;241m.\u001b[39mcopy(deep\u001b[38;5;241m=\u001b[39m\u001b[38;5;28;01mTrue\u001b[39;00m)\u001b[38;5;241m.\u001b[39mreset_index(drop\u001b[38;5;241m=\u001b[39m\u001b[38;5;28;01mTrue\u001b[39;00m)\u001b[38;5;241m.\u001b[39mreset_index()\n\u001b[1;32m      7\u001b[0m \u001b[38;5;28;01mif\u001b[39;00m (\u001b[38;5;28mlen\u001b[39m(path) \u001b[38;5;241m==\u001b[39m \u001b[38;5;241m0\u001b[39m):\n",
      "\u001b[0;31mException\u001b[0m: Error: TagName Invalid. Check Dataframe!"
     ]
    }
   ],
   "source": [
    "#String, DataFrame -> DataFrame [Side effect:file output]\n",
    "def getTagDF(tagName,path,dF):\n",
    "    tagList = (dF.tag.unique()).tolist()\n",
    "    if (tagName not in tagList):\n",
    "        raise Exception(\"Error: TagName Invalid. Check Dataframe!\")\n",
    "    subDF = (dF[tweetDF[\"tag\"] == tagName]).copy(deep=True).reset_index(drop=True).reset_index()\n",
    "    if (len(path) == 0):\n",
    "        raise Exception(\"Error: Empty path string.\")        \n",
    "    subDF.loc[:,[\"index\",\"tweetid\",\"text\"]].to_json(path,orient=\"records\",index=True,force_ascii=False)    \n",
    "    return subDF\n",
    "\n",
    "saiDF = getTagDF(\"SelfAndID\", \"./data/saiDF.json\",tweetDF)"
   ]
  },
  {
   "cell_type": "code",
   "execution_count": 11,
   "id": "007b1410",
   "metadata": {},
   "outputs": [
    {
     "data": {
      "text/plain": [
       "True"
      ]
     },
     "execution_count": 11,
     "metadata": {},
     "output_type": "execute_result"
    }
   ],
   "source": []
  },
  {
   "cell_type": "code",
   "execution_count": null,
   "id": "b0f8348e",
   "metadata": {},
   "outputs": [],
   "source": []
  },
  {
   "cell_type": "code",
   "execution_count": null,
   "id": "5fb6ebff",
   "metadata": {},
   "outputs": [],
   "source": []
  },
  {
   "cell_type": "code",
   "execution_count": null,
   "id": "b9f10237",
   "metadata": {},
   "outputs": [],
   "source": []
  }
 ],
 "metadata": {
  "kernelspec": {
   "display_name": "Python 3 (ipykernel)",
   "language": "python",
   "name": "python3"
  },
  "language_info": {
   "codemirror_mode": {
    "name": "ipython",
    "version": 3
   },
   "file_extension": ".py",
   "mimetype": "text/x-python",
   "name": "python",
   "nbconvert_exporter": "python",
   "pygments_lexer": "ipython3",
   "version": "3.8.10"
  }
 },
 "nbformat": 4,
 "nbformat_minor": 5
}

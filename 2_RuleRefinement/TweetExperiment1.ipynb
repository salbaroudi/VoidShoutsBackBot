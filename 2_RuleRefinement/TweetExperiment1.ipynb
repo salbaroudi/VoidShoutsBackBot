{
 "cells": [
  {
   "cell_type": "code",
   "execution_count": 1,
   "metadata": {},
   "outputs": [
    {
     "name": "stdout",
     "output_type": "stream",
     "text": [
      "['ProposedRules.txt', 'testtweets.twts', 'testdatasets', 'self.twts', 'selectedtweets', 'rules3-4_trial2.twts', 'rules1-4_trial1.twts', 'skeptic.twts']\n"
     ]
    }
   ],
   "source": [
    "import numpy as np \n",
    "import pandas as pd \n",
    "import altair as alt\n",
    "import matplotlib.pyplot as plt\n",
    "import re\n",
    "import json\n",
    "\n",
    "import os\n",
    "print(os.listdir(\"./data\"))\n",
    "\n",
    "testFilePath = \"./data/testtweets.twts\"\n"
   ]
  },
  {
   "cell_type": "markdown",
   "metadata": {},
   "source": [
    "### Introduction:\n",
    "\n",
    "In this notebook, I hope to load tweets from a file, parse them as json objects and do basic analytics on the said data.The tweets are in UTF-8, so cleaning and parsing the data may be challenging. Lets see how it goes...\n",
    "\n",
    "To begin, lets load the dataset. First we use the top 200 tweets in the file, as a simple test."
   ]
  },
  {
   "cell_type": "code",
   "execution_count": 2,
   "metadata": {},
   "outputs": [
    {
     "name": "stdout",
     "output_type": "stream",
     "text": [
      "(1000, 2)\n"
     ]
    },
    {
     "data": {
      "text/html": [
       "<div>\n",
       "<style scoped>\n",
       "    .dataframe tbody tr th:only-of-type {\n",
       "        vertical-align: middle;\n",
       "    }\n",
       "\n",
       "    .dataframe tbody tr th {\n",
       "        vertical-align: top;\n",
       "    }\n",
       "\n",
       "    .dataframe thead th {\n",
       "        text-align: right;\n",
       "    }\n",
       "</style>\n",
       "<table border=\"1\" class=\"dataframe\">\n",
       "  <thead>\n",
       "    <tr style=\"text-align: right;\">\n",
       "      <th></th>\n",
       "      <th>data</th>\n",
       "      <th>matching_rules</th>\n",
       "    </tr>\n",
       "  </thead>\n",
       "  <tbody>\n",
       "    <tr>\n",
       "      <th>0</th>\n",
       "      <td>{'id': '1560703992908451840', 'text': 'RT @dav...</td>\n",
       "      <td>[{'id': '1560702401342017538', 'tag': 'Selfand...</td>\n",
       "    </tr>\n",
       "    <tr>\n",
       "      <th>1</th>\n",
       "      <td>{'id': '1560703995701669889', 'text': 'RT @Fox...</td>\n",
       "      <td>[{'id': '1560702401342017538', 'tag': 'Selfand...</td>\n",
       "    </tr>\n",
       "    <tr>\n",
       "      <th>2</th>\n",
       "      <td>{'id': '1560703992308457472', 'text': 'RT @hos...</td>\n",
       "      <td>[{'id': '1560702401342017538', 'tag': 'Selfand...</td>\n",
       "    </tr>\n",
       "    <tr>\n",
       "      <th>3</th>\n",
       "      <td>{'id': '1560703992736272384', 'text': 'In this...</td>\n",
       "      <td>[{'id': '1560702401342017538', 'tag': 'Selfand...</td>\n",
       "    </tr>\n",
       "    <tr>\n",
       "      <th>4</th>\n",
       "      <td>{'id': '1560703994040909827', 'text': 'RT @Tej...</td>\n",
       "      <td>[{'id': '1560702401342017538', 'tag': 'Selfand...</td>\n",
       "    </tr>\n",
       "  </tbody>\n",
       "</table>\n",
       "</div>"
      ],
      "text/plain": [
       "                                                data  \\\n",
       "0  {'id': '1560703992908451840', 'text': 'RT @dav...   \n",
       "1  {'id': '1560703995701669889', 'text': 'RT @Fox...   \n",
       "2  {'id': '1560703992308457472', 'text': 'RT @hos...   \n",
       "3  {'id': '1560703992736272384', 'text': 'In this...   \n",
       "4  {'id': '1560703994040909827', 'text': 'RT @Tej...   \n",
       "\n",
       "                                      matching_rules  \n",
       "0  [{'id': '1560702401342017538', 'tag': 'Selfand...  \n",
       "1  [{'id': '1560702401342017538', 'tag': 'Selfand...  \n",
       "2  [{'id': '1560702401342017538', 'tag': 'Selfand...  \n",
       "3  [{'id': '1560702401342017538', 'tag': 'Selfand...  \n",
       "4  [{'id': '1560702401342017538', 'tag': 'Selfand...  "
      ]
     },
     "execution_count": 2,
     "metadata": {},
     "output_type": "execute_result"
    }
   ],
   "source": [
    "dfTweets = pd.read_json(testFilePath,lines=True)\n",
    "print(dfTweets.shape)\n",
    "dfTweets.head()"
   ]
  },
  {
   "cell_type": "markdown",
   "metadata": {},
   "source": [
    "This ends up with dictionary objects in our entry cells, which is annoying. It looks like read_json() does not have parameters to stop this. \n",
    "\n",
    "A simple file read loop, with jsonparse() is probably a better approach.\n"
   ]
  },
  {
   "cell_type": "code",
   "execution_count": 3,
   "metadata": {},
   "outputs": [],
   "source": [
    "tweetDF = pd.DataFrame(columns=[\"tweetid\", \"text\", \"tagid\",\"tag\"])\n",
    "##Note! On a rare occasion, two or more tags can match. THis currently chooses the first tag set\n",
    "##Information loss can occur.\n",
    "with open(testFilePath) as fp:\n",
    "    line = fp.readline()\n",
    "    while line:\n",
    "        jsonObj = json.loads(line)\n",
    "        v1 = jsonObj[\"data\"][\"id\"]\n",
    "        v2 = jsonObj[\"data\"][\"text\"]\n",
    "        v3 = jsonObj['matching_rules'][0][\"id\"]\n",
    "        v4 = jsonObj['matching_rules'][0][\"tag\"]\n",
    "        tweetDF.loc[len(tweetDF.index)] = [v1,v2,v3,v4]    \n",
    "        line = fp.readline()\n",
    "    fp.close()\n",
    "\n",
    "tweetDF[\"tweetid\"] = pd.to_numeric(tweetDF[\"tweetid\"])\n",
    "tweetDF[\"tagid\"] = pd.to_numeric(tweetDF[\"tagid\"])\n",
    "\n"
   ]
  },
  {
   "cell_type": "code",
   "execution_count": 4,
   "metadata": {},
   "outputs": [
    {
     "name": "stdout",
     "output_type": "stream",
     "text": [
      "(1000, 4)\n",
      "\n",
      "tweetid    0\n",
      "text       0\n",
      "tagid      0\n",
      "tag        0\n",
      "dtype: int64\n",
      "\n",
      "<class 'pandas.core.frame.DataFrame'>\n",
      "Int64Index: 1000 entries, 0 to 999\n",
      "Data columns (total 4 columns):\n",
      " #   Column   Non-Null Count  Dtype \n",
      "---  ------   --------------  ----- \n",
      " 0   tweetid  1000 non-null   int64 \n",
      " 1   text     1000 non-null   object\n",
      " 2   tagid    1000 non-null   int64 \n",
      " 3   tag      1000 non-null   object\n",
      "dtypes: int64(2), object(2)\n",
      "memory usage: 39.1+ KB\n",
      "None\n"
     ]
    }
   ],
   "source": [
    "#verify that it works.\n",
    "print(tweetDF.shape)\n",
    "print()\n",
    "print(tweetDF.isnull().sum())\n",
    "print()\n",
    "print(tweetDF.info())"
   ]
  },
  {
   "cell_type": "markdown",
   "metadata": {},
   "source": [
    "Next, lets generate some summary statistics for our 1000 tweets that we imported. "
   ]
  },
  {
   "cell_type": "code",
   "execution_count": 5,
   "metadata": {},
   "outputs": [
    {
     "name": "stderr",
     "output_type": "stream",
     "text": [
      "/tmp/ipykernel_2525/189792792.py:8: SettingWithCopyWarning: \n",
      "A value is trying to be set on a copy of a slice from a DataFrame\n",
      "\n",
      "See the caveats in the documentation: https://pandas.pydata.org/pandas-docs/stable/user_guide/indexing.html#returning-a-view-versus-a-copy\n",
      "  distDF[\"percentage\"][strIndex] = (distDF[\"sum\"][strIndex]*100)/totalSum\n"
     ]
    },
    {
     "data": {
      "text/html": [
       "<div>\n",
       "<style scoped>\n",
       "    .dataframe tbody tr th:only-of-type {\n",
       "        vertical-align: middle;\n",
       "    }\n",
       "\n",
       "    .dataframe tbody tr th {\n",
       "        vertical-align: top;\n",
       "    }\n",
       "\n",
       "    .dataframe thead th {\n",
       "        text-align: right;\n",
       "    }\n",
       "</style>\n",
       "<table border=\"1\" class=\"dataframe\">\n",
       "  <thead>\n",
       "    <tr style=\"text-align: right;\">\n",
       "      <th></th>\n",
       "      <th>sum</th>\n",
       "      <th>percentage</th>\n",
       "    </tr>\n",
       "  </thead>\n",
       "  <tbody>\n",
       "    <tr>\n",
       "      <th>SelfandID</th>\n",
       "      <td>607</td>\n",
       "      <td>60.7</td>\n",
       "    </tr>\n",
       "    <tr>\n",
       "      <th>HealthySkepticism</th>\n",
       "      <td>319</td>\n",
       "      <td>31.9</td>\n",
       "    </tr>\n",
       "    <tr>\n",
       "      <th>SocietalShift</th>\n",
       "      <td>49</td>\n",
       "      <td>4.9</td>\n",
       "    </tr>\n",
       "    <tr>\n",
       "      <th>SearchTheVoid</th>\n",
       "      <td>25</td>\n",
       "      <td>2.5</td>\n",
       "    </tr>\n",
       "  </tbody>\n",
       "</table>\n",
       "</div>"
      ],
      "text/plain": [
       "                   sum percentage\n",
       "SelfandID          607       60.7\n",
       "HealthySkepticism  319       31.9\n",
       "SocietalShift       49        4.9\n",
       "SearchTheVoid       25        2.5"
      ]
     },
     "execution_count": 5,
     "metadata": {},
     "output_type": "execute_result"
    }
   ],
   "source": [
    "\n",
    "distDF = pd.DataFrame(columns=[\"sum\",\"percentage\"],index=tweetDF.tag.unique())\n",
    "\n",
    "#thankfully, when we write the series to our col, it matches row index titles.\n",
    "distDF[\"sum\"] = tweetDF.groupby('tag')['tagid'].count()\n",
    "totalSum = tweetDF.shape[0]\n",
    "#distDF[\"percentage\"] = pd.Series([]) \n",
    "for strIndex in distDF.index:\n",
    "    distDF[\"percentage\"][strIndex] = (distDF[\"sum\"][strIndex]*100)/totalSum\n",
    "\n",
    "distDF\n",
    "#5% societal shift, 61% self, 2.5% searchthevoid, 32% Skepticism.\n"
   ]
  },
  {
   "cell_type": "markdown",
   "metadata": {},
   "source": [
    "From our percentages above, we can see how much of our bandwidth is eaten up by specific tags. There probably isn't enough data for the SocietalShift and SearchTheVoid rules - these should be separated and ran over a longer time frame, from the other two rules.\n",
    "\n",
    "For the SelfandID, and HealthySkepticism matched tweets, we must separate poor tweets from good ones. This can be done as follows:\n",
    "\n",
    "1) A subset of tweets is visually inspected in VS Code (for ease). \"Good tweets are identified\".\n",
    "\n",
    "2) Good tweets are separated from bad ones.\n",
    "\n",
    "3) Next, word sets are accumulated for the Good and Bad tweet sets.\n",
    "\n",
    "4) We calculate the difference between the two sets. So unique words only found in the \"good\" tweets, and unique words only found in the \"bad\" tweets.\n",
    "\n",
    "5) From this information, we refine our rules and gather data again."
   ]
  },
  {
   "cell_type": "code",
   "execution_count": 6,
   "metadata": {},
   "outputs": [
    {
     "data": {
      "text/plain": [
       "(319, 4)"
      ]
     },
     "execution_count": 6,
     "metadata": {},
     "output_type": "execute_result"
    }
   ],
   "source": [
    "#From our data table, lets separate our tweets by tag and write to file, to make tweet inspecting easier.\n",
    "\n",
    "#first get SelfandID tweets:\n",
    "\n",
    "selfDF =  tweetDF[tweetDF.tag.isin(['SelfandID'])]\n",
    "selfDF.shape\n",
    "\n",
    "skeptDF =  tweetDF[tweetDF.tag.isin(['HealthySkepticism'])]\n",
    "skeptDF.shape\n"
   ]
  },
  {
   "cell_type": "code",
   "execution_count": 7,
   "metadata": {},
   "outputs": [],
   "source": [
    "#Can we write this to our data directory? Yes\n",
    "\n",
    "selfDF.loc[:, ['tweetid', 'text']].to_csv(\"./data/self.twts\", sep='\\t', encoding='utf-8',index=False)"
   ]
  },
  {
   "cell_type": "code",
   "execution_count": 8,
   "metadata": {},
   "outputs": [],
   "source": [
    "skeptDF.loc[:, ['tweetid', 'text']].to_csv(\"./data/skeptic.twts\", sep='\\t', encoding='utf-8',index=False)"
   ]
  },
  {
   "cell_type": "markdown",
   "metadata": {},
   "source": [
    "After looking at the tweets in a visual editor, we can start to devise methods for classifying tweets as good and bad.\n",
    "\n",
    "Manual Filter: Tokenize all good and bad tweets, narrow down the two sets (cut out articles, prepositions, etc...), and then find the set difference between them. Use this difference to construct negative filters.\n",
    "\n",
    "**Implicit Assumption:** Those who construct \"bad\" tweets use certain words and expressions that I can identify, and use with minimal false positives on the \"good\" set. (!!!) This is a very strong assumption (!!!)."
   ]
  },
  {
   "cell_type": "code",
   "execution_count": 9,
   "metadata": {},
   "outputs": [
    {
     "name": "stdout",
     "output_type": "stream",
     "text": [
      "{'rt': 114, 'sofizamolo': 6, 'looks': 7, 'great': 7, '🔥': 18, 'paradime': 6, 'token': 6, 'dime': 6, '(\\nparadime_token)': 6, '\\ncombining': 6, 'true': 7, 'burn': 6, 'with': 40, 'auto': 6, 'liquidity💧\\n\\n🔥': 6, '340+': 6, 'tg': 6, 'members\\n💧': 6, '15…': 6, 'cryptogiants_': 1, 'launching': 49, '8pm': 41, 'today\\nlinkedin': 41, 'meet': 41, 'fb': 42, 'cmc': 41, 'annual': 41, 'gala': 41, 'dinner': 42, 'amp': 65, 'awards': 41, 'ceremony': 41, '1st': 42, 'crypto': 41, 'social': 43, 'platform': 41, 'influencers': 62, 'devs': 41, 'investors': 41, 'can': 49, 'network': 41, 'in': 74, 'a': 117, 'transparent': 41, 'place\\nwhitepaper✅\\nroadmap✅\\nwebhttps//tco/g4pgcuwbql': 29, '✅\\ntghttps//tco/ca85xbicz0': 29, '✅': 41, 'e': 38, 'o': 45, 'jornaleiro': 1, 'lewando': 1, 'noku': 1, 'não': 8, 'tem': 9, 'argumento': 2, 'pra': 25, 'rebater': 1, 'os': 2, 'números': 1, 'dessa': 2, 'postagem': 1, '🤷🏻\\u200d♂️\\n\\nsó': 1, 'lacração': 1, 'msm': 94, 'grande': 3, 'dia': 6, '👍🏼': 1, 'https//tco/orqez0sukf': 1, 'pabloback222': 1, 'america1scotty': 1, 'tell': 1, 'that': 32, 'to': 83, 'the': 142, 'guys': 1, 'this': 31, 'video': 1, '': 40, 'person': 2, 'face': 3, 'see': 8, 'how': 6, 'goes': 1, 'for': 42, 'you': 37, 'we': 18, 'are': 36, 'too': 4, 'far': 1, 'gone': 2, 'thanks': 1, 'libs': 1, 'bring': 2, 'back': 4, 'mlk': 1, 'teachings': 1, 'then': 4, 'maybe': 1, 'dripcommunity': 13, 'upcoming': 8, 'of': 67, 'v2': 8, 'animalfarm': 8, 'scratchy': 8, 'looking': 9, 'copromotion': 8, 'major': 8, 'if': 27, 'you…': 9, 'https//tco/2pchsg0svy': 1, 'https//tco/vczgh5mtoc': 1, 'juntaram': 1, 'wooshik': 1, 'sukku': 1, 'vou': 8, 'gritar': 1, '😩': 1, 'https//tco/8wyacvdb42': 1, 'truthorbare': 1, 'facundosavala': 1, 'every': 3, 'day': 4, 'scotland': 1, 'sole': 1, 'headline': 1, 'should': 7, 'be\\n\\n\"over': 1, '4000': 1, 'elderly': 1, 'scots': 1, 'perished': 1, 'care': 3, 'homes': 1, 'unde…': 1, 'hhphotography3': 1, 'blue': 1, 'persuasion': 2, 'put': 2, 'some': 4, 'zen': 1, 'on': 27, 'your': 15, 'home': 4, 'or': 13, 'office': 2, 'walls': 1, 'it': 33, 'here': 8, 'https//tco/kmltgnd9jg\\nseascape': 1, 'wate…': 1, 'why': 9, 'people': 16, 'listening': 2, 'government': 4, 'plant\\n\\noh-right': 1, 'they': 15, 'brainwashed': 1, 'sheeple': 1, 'https//tco/etsmoobemq': 1, 'alguma': 2, 'alma': 2, 'caridosa': 2, 'poderia': 2, 'me': 25, 'dizer': 3, 'se': 18, 'vc': 16, 'está': 3, 'em': 9, 'algum': 2, 'grupo': 6, 'de': 29, 'gtgtgttaekookltltlt\\nse': 2, 'estiver': 2, 'pvf': 2, 'chama': 2, 'no': 20, 'pv': 2, 'nota': 1, 'p😫😫😫\\no': 1, 'vale': 3, 'fanfic': 2, 'gtgtgttaekookltltlt': 2, 'bquittem': 1, 'osdistillingco': 1, 'bitcoinersmpls': 1, 'oubrisado': 4, 'eu': 31, 'tô': 11, 'ctg': 8, 'unica': 4, 'pessoa': 7, 'q': 21, 'pode': 6, 'mudar': 4, 'isso': 15, 'é': 20, 'drscotthadland': 2, 'my': 6, 'pediatrician': 2, 'colleagues': 2, 'being': 3, 'threatened': 2, 'violence': 3, 'based': 2, 'vile': 2, 'misinformation': 29, 'campaign': 4, '\\n\\nthis': 2, 'isn’t': 2, 'a…': 4, 'nftart85424486': 1, 'wireshape': 1, 'place\\nwhitepaper✅\\nroadmap✅\\nwebhttps//tco/xmukstr0mb': 5, '✅\\ntghttps//tco/o9lt3ncp0r': 5, 'it’s': 3, 'scary': 1, 'is': 50, 'getting': 2, 'likes': 2, 'https//tco/cww3urixkg': 1, 'go': 4, 'time': 6, '💦🚀': 1, 'i_ammukhtar': 1, 'owami': 1, 'davies': 1, 'has': 13, 'been': 7, 'missing': 1, 'about': 6, '40': 1, 'days': 3, 'and': 63, \"there's\": 3, 'hardly': 1, 'any': 9, 'coverage': 1, 'https//tco/s2zfl5zudn': 1, 'eusoufinarfin': 1, 'bora': 2, '8': 1, 'uai': 1, 'lenaluci_': 1, 'mano': 2, 'vivia': 1, 'falando': 1, 'única': 2, 'resposta': 1, 'que': 23, 'as': 15, 'pessoas': 3, 'dava': 1, 'eram': 1, '\"kian': 1, 'broxa': 1, 'sempre': 7, 'foi': 4, 'broxa\"': 1, 'sinto': 1, 'ele': 9, 'continuasse': 1, 'um': 14, 'bom': 3, 'vilão': 1, 'hate': 4, 'ia': 2, 'ser': 3, 'fandom': 1, 'cai': 2, 'cima': 1, 'personagens': 1, 'antagônicos': 1, 'uma': 10, 'maneira': 1, 'bem': 3, 'meme': 1, '/': 1, 'kodke3': 1, 'jackposobiec': 1, 'push': 1, 'only': 7, 'mean': 1, 'he': 5, 'thorn': 1, 'their': 9, 'side': 1, 'seeing': 3, \"don't\": 4, 'try': 2, 'hide': 1, 'fact': 2, 'enemy': 1, 'want': 5, 'control': 2, 'seems': 3, 'logical': 2, 'trump': 6, 'at': 11, 'least': 2, 'until': 1, 'something': 1, 'better': 1, 'comes': 2, 'along': 2, \"won't\": 2, 'happen': 1, 'form': 1, 'standforbetter': 1, 'postdisclosure': 1, '60minutes': 1, 'exactly': 2, 'would': 15, 'i': 23, 'take': 6, 'word': 2, 'navy': 1, 'captain': 1, 'who': 11, 'up': 6, 'close': 1, 'experience': 1, 'failed': 2, 'game': 3, 'programmer': 1, 'turned': 1, 'skeptic': 1, 'nunca': 1, 'vi': 1, 'comunidade': 2, 'tão': 2, 'gay': 2, 'homofóbica': 1, 'ao': 2, 'tempo': 2, 'quanto': 1, 'lolkkkkk': 1, 'wasabiweavers14': 1, 'msm_monitor': 3, 'more': 7, 'gaslighting': 1, 'by': 9, 'yoon': 1, 'central': 1, 'https//tco/aohpf3unpm': 1, 'paraberlin': 1, 'buergergermany': 1, 'haube_89': 1, 'saifedean': 1, 'aprycotmedia': 1, 'llanier67': 1, 'democrats': 4, 'claim': 2, 'republicans': 1, 'evil': 1, 'claims': 1, 'civil': 1, 'war': 1, 'coming': 2, 'dems': 1, 'caused': 2, 'high': 1, 'inflationgasutilitiesfood': 1, 'taxe…': 1, 'lifeismalleable': 1, 'just': 9, 'reading': 1, 'these': 6, 'freaks': 1, 'do': 18, 'health': 7, 'reasons': 1, 'apparently': 1, 'need': 3, 'chainlink': 1, 'stop': 5, 'despite': 1, 'hilarious': 1, 'got': 2, 'trolled': 1, 'illicitnats': 1, 'deixa': 2, 'besteira': 1, 'kkkkkkkkk': 1, 'antes': 1, 'junho': 1, 'ano': 1, 'passado': 1, 'era': 6, 'foto': 3, 'insta': 1, 'só': 11, 'colorida': 1, '_ribeirocastro': 1, 'minha': 3, 'memoria': 1, 'tipo': 1, 'sera': 1, 'aconteceu': 1, 'ou': 2, 'sonhei': 1, '1929362729hein': 1, 'parece': 2, 'kkkkkkkkkkkkkkk': 2, 'cadurs_': 1, 'kkkkkkk': 3, 'olha': 2, 'diabo': 1, 'baixei': 1, 'tinder': 1, 'dnv': 1, 'merda': 2, 'nao': 3, 'ter': 3, 'nenhuma': 1, 'p': 8, 'coloca': 1, 'por': 9, 'odia': 1, 'tira': 1, 'aushausha': 1, 'vladimilencarn6': 1, 'repkatieporter': 3, 'special': 3, 'interest': 3, 'lobbyists': 6, 'pushed': 4, 'defund': 3, 'irs': 4, 'so': 17, 'be': 24, 'easier': 3, 'big': 5, 'corporations': 3, 'evade': 3, 'taxes': 3, 'corporat…': 3, 'douglaschu_': 1, 'like': 8, 'ba-dum-tss': 1, 'gurialula': 1, 'andrejanonesadv': 1, 'lucianagenro': 1, 'fala': 1, 'todo': 6, 'mundo': 1, 'então': 3, 'tá': 7, 'tudo': 4, ')': 1, 'tb': 3, 'votar': 1, 'lula': 1, 'acho': 4, 'lovablepsychodw': 1, 'slid': 1, 'his': 4, 'hand': 1, 'down': 3, 'grabbed': 1, 'ass\\n\\n\"you': 1, 'will': 9, 'have': 14, 'our': 6, 'own': 5, 'sundaes': 1, 'later': 3, \"i'll\": 1, 'whipped': 1, 'cream\"': 1, 'cdofficialnfts': 1, 'making': 2, 'history': 1, 'solana\\n🚀\\n\\nthe': 1, 'project': 4, 'refund': 1, '100%': 1, 'funds': 1, 'floor': 1, 'price': 2, 'lower': 1, 'than': 4, 'mint': 1, 'price💰…': 1, 'alem': 1, 'disso': 1, 'fico': 1, 'd': 4, 'cara': 4, 'com': 14, 'tanto': 1, 'reciclando': 1, 'né': 1, 'véikk': 1, 'cenário/visual': 1, 'td': 1, 'reciclagem': 1, 'mista': 1, 'hlt': 1, 'ktl': 1, 'coreográfia': 1, 'medíocre': 1, 'repetição': 1, 'dos': 1, 'paços': 1, 'entãoquem': 1, 'aguenta': 1, 'muita': 2, 'pau': 1, 'das': 3, 'maiores': 1, 'men': 1, 'dancers': 1, 'kpop': 1, 'fazer': 4, 'sciguy77': 1, 'sebastiangarof5': 1, 'j_andries': 1, 'oct/nov': 1, 'staggering': 1, 'find': 2, 'polling': 1, 'place': 2, 'now': 3, 'check': 1, 'voter': 1, 'r…': 1, 'bitcoingringo': 1, 'jackmallers': 1, 'amigoque': 1, 'amigo': 2, 'quando': 1, 'numa': 2, 'cama': 1, 'hospital': 1, 'ninguém': 1, 'vai': 4, 'lá': 2, 'visita': 1, 'nem': 4, 'seu': 2, 'próprio': 1, 'pai': 1, 'fila': 1, 'já': 3, 'sua': 3, 'mãe': 2, 'deus': 3, 'ela': 6, 'sim': 2, 'chamar': 1, 'amiga': 1, 'vdd': 3, 'jaee': 1, 'irexitfreedom': 1, 'proposed': 1, 'anti': 1, 'free': 2, 'speech': 2, 'legislation': 1, 'due': 1, 'year': 2, 'represent': 1, 'biggest': 2, 'attack': 1, 'since': 3, 't…': 1, 'shun_sasahara': 1, 'ついにこのニュースがmsmで、報道されました。\\n\\nhttps//tco/ljxltjkxw1': 1, 'ahmetark60': 1, 'crypto__stone': 1, 'nytimes': 2, 'facebook': 3, 'instagram': 4, 'removed': 2, 'accounts': 2, 'children’s': 1, 'defense': 1, 'spreading': 5, 'medical': 3, 'organi…': 1, 'wanntuita': 1, 'sou': 5, 'msm😌': 1, 'doggonenation': 1, 'aaronhoyland': 1, 'marcomendicino': 1, 'not': 15, 'gonna': 2, 'argue': 1, 'stupid': 4, 'don’t': 5, 'deal': 3, 'reality': 1, 'facts': 2, 'bad': 1, 'must': 2, 'lefty': 1, 'bullshit': 1, 'bye': 2, 'nn': 1, 'quero': 2, 'reclame': 1, 'dps': 1, 'qnd': 1, 'fizer': 1, '16-': 1, 'assim': 7, 'acaba': 1, '\\n\\nreler': 1, 'clássico': 1, 'sofrer': 1, '💕': 1, 'wonder': 4, 'america': 1, 'such': 3, 'mess\\n\\nmsm': 1, 'actually': 2, 'post': 2, 'nonsense': 1, 'know': 3, 'gullible': 1, 'they’ll': 1, 'believe': 4, 'it\\n\\n🤦\\u200d♀️\\n\\ni’m': 1, 'truly': 2, 'amazed': 1, 'cnn': 1, 'thinks': 1, 'are\\n\\nmoney': 1, 'fuel': 1, 'gas': 2, 'intelligence': 2, 'energy': 1, 'finance': 1, '\\nhttps//tco/2poqy9sjh5': 1, 'gladysshollei': 6, 'mwanamme': 1, 'ambaye': 1, 'ni': 1, 'mwizi': 1, 'sugunkt': 1, 'whisky': 2, 'hoje': 9, 'esquentar': 2, 'sangue': 2, 'kkkkl': 2, 'https//tco/xvaxisr42f': 1, '_l8nite3': 1, 'zenjentree': 1, 'furthermore': 1, 'anyone': 5, 'anything': 5, 'weather': 1, 'agree': 1, 'falls': 1, 'under': 4, 'amendment': 1, 'rights': 1, 'you’re': 4, 'was': 7, 'meant': 1, 'satire': 1, 'much': 3, 'scarier': 1, 'issue': 1, 'triggered': 1, 'said': 5, 'above': 1, 'sir': 1, 'respectfully': 1, 'sit': 1, 'rotate🇺🇸': 1, 'ngm': 1, 'pega': 1, 'live': 1, 'fumar': 2, 'queria': 1, 'kkkkk🤯': 1, 'quick_nao': 1, 'aridiculouslife': 1, 'mrjoncryer': 1, 'explain': 2, 'fda': 1, 'went': 1, 'court': 1, 'keep': 1, 'trial': 1, 'data': 1, 'from': 16, 'public': 7, '75': 1, 'years': 1, 'pfizer': 2, 'liability': 1, 'vaccine': 3, 'injuries': 2, 'congress': 1, 'working': 1, 'wh': 1, 'well': 3, 'mandated': 1, 'vaccines': 1, 'while': 2, 'others': 1, 'forced': 1, 'out': 5, 'jobs': 1, 'pumpkiestarlet': 1, 'place\\nwhitepaper✅\\nroadmap✅\\nwebhttps//tco/p2hzraur05': 4, '✅\\ntghttps//tco/ri59earbai': 4, 'beautiful': 1, 'thief': 1, 'babycatcalla': 1, 'mrtom419': 1, 'potus': 2, 'looked': 1, \"can't\": 1, 'support': 3, 'statement': 1, 'information': 1, \"i'm\": 3, 'curiousno': 1, 'judgment': 1, 'lot': 11, 'twitter': 5, 'dakota_150': 1, 'plus': 1, 'afaik': 1, 'outsources': 1, 'modification': 2, 'global': 1, 'south': 1, 'basically': 1, 'might': 1, 'familiar': 1, 'what': 9, 'considered': 1, 'reputable': 1, 'journals\\n\\nplus': 1, 'pressure': 1, 'move': 1, 'through': 1, 'queue': 1, 'quickly': 2, 'leonlittman': 1, 'officials': 2, 'noble': 1, 'lies': 5, 'reflexive': 1, 'they’ve': 1, 'always': 1, 'done': 4, 'achieve': 2, 'desired': 1, 'outcomes': 1, 'problem': 1, 'paying': 1, 'attention': 1, 'before': 2, 'look': 3, 'study': 2, 'fauci': 1, 'ignores': 2, 'downplays': 1, 'exaggerates': 1, 'magiccraftgame': 1, \"it's\": 5, 'very': 2, 'wonderful': 1, 'thankyou\\n\\nmagiccraft': 1, 'mcrt': 1, 'tradingbtc1': 1, 'petealonsocrazy': 1, 'goalskii': 1, 'mephistotabern1': 1, 'bbrown24646528': 1, 'rationalpanthe1': 1, 'rule': 1, 'life': 4, 'saying': 6, 'wrong': 2, 'curious': 2, 'does': 1, 'think': 5, 'matter': 4, 'hard': 1, \"you'll\": 1, 'never': 3, 'figure': 1, 'god': 1, 'knows': 1, 'wants': 1, 'way': 1, 'xghpan5hjxyqzqz': 1, 'ericcrypton3': 1, 'akito_btc': 1, 'crypto_allo': 1, 'kjchannel22': 1, 'place\\nwhitepaper✅\\nroadmap✅\\nwebhttps//tco/6l8jagdd1d': 2, '✅\\ntghttps//tco/yg3yt0saaq': 2, 'クレパスと水彩色鉛筆です': 1, 'arthurpalauro': 1, 'kkkkkkkk': 1, 'ainda': 1, 'mais': 5, 'contexto': 1, 'minhas': 1, 'duas': 1, 'últimas': 1, 'refeições': 1, '(janta': 1, 'ontem': 1, 'almoço': 1, 'hj)': 1, 'foram': 1, 'mc': 1, 'jessew_art': 1, 'i’ve': 1, 'sense': 1, '1': 2, '👇\\n\\nif': 1, 'community': 3, 'part': 1, 'follow': 1, 'ianmsc': 2, 'case': 5, 'were': 3, 'wondering': 2, 'fanatical': 2, 'maskers': 2, 'ever': 4, 'philadelphia': 2, 'orchestra': 2, 'demanded': 2, 'british': 2, 'choir': 2, 'sing': 2, 'with…': 3, 'fcknjordan': 1, 'y’all': 1, 'wanna': 2, 'but': 14, 'nobody': 1, 'https//tco/zovxq2rlk4': 1, 'borel_rocha': 1, 'peguei': 1, 'n': 9, 'mn': 1, 'isaacquest_': 1, 'lanceusa70': 4, '4tiffanyjustice': 4, 'her': 8, '“organization”': 3, 'moms4liberty': 4, 'feel': 3, 'responsibility': 3, 'suicides': 3, 'lgbtq': 3, 'y…': 3, 'someone': 1, 'easily': 1, 'read': 3, 'can’t': 2, '5': 3, 'minutes': 1, 'get': 8, 'cold': 1, 'instead': 2, 'lies\\njust': 1, 'shows': 1, 'internet': 2, 'dumb': 1, 'fr': 1, 'https//tco/c2s1tzhl7q': 1, 'soulboy731': 1, 'arranged': 1, 'candle': 1, 'light': 1, 'vigil': 1, 'man': 4, 'expect': 1, 'premier': 1, 'league': 1, 'england': 1, 'players': 1, 'knee': 1, 'hi…': 1, 'thefergusonway': 1, 'really': 2, 'hope': 1, 'other': 4, 'utd': 1, '“influencers”': 1, 'worrying': 1, 'tag': 1, 'player': 1, '\\n\\nsancho': 1, 'cost': 1, 'us': 6, '120m': 1, '…': 1, 'jilevin': 1, 'remove': 2, 'rfk': 1, \"jr's\": 1, 'anti-vax': 1, 'nonprofit': 1, 'promoting': 1, 'report': 2, 'via': 2, 'alternet': 1, 'https//tco/gzfd…': 1, 'using': 2, 'nazi': 1, 'gestapo': 1, 'rules': 1, 'fall': 1, 'blatant': 1, 'https//tco/dmacmx7rkw': 1, 'https//tco/7mada2kbdn': 1, 'thirtexnthwho': 1, 'baixazeza': 1, 'custava': 1, 'dar': 1, 'canon': 1, 'gente': 1, 'série': 2, 'tinha': 3, 'ido': 1, 'pro': 4, 'buraco': 1, 'mas': 12, 'acabam': 1, 'naquele': 1, 'negócio': 1, 'casal': 1, 'lgbt': 1, 'vez': 2, 'goldstone_tony': 1, '👇is': 1, 'even': 5, 'conclusive': 1, 'thought': 1, 'message': 1, 'all': 9, 'healthcare': 1, 'unions': 1, 'loud': 1, 'clear\\n\\nyour…': 1, 'duty2warn': 1, '-': 6, 'those': 2, 'point': 2, 'there': 5, 'many': 4, 'americans': 1, \"let's\": 2, 'real': 3, 'tweets': 1, 'reside': 1, 'the…': 1, 'deusdete_sccp': 1, 'papo': 1, 'reto': 1, 'ignore': 1, 'law': 1, 'crystal': 1, 'clear': 3, 'https//tco/ytrvevvvrx': 1, 'flassknows': 1, 'anti-migration': 1, 'rhetoric': 1, 'rooted': 1, 'hearsay\\n1\"don\\'t': 1, 'second-class': 1, 'citizen': 1, 'elsewhere\"': 1, 'oka…': 1, 'drip': 2, 'krl': 1, 'odeio': 1, 'fiquem': 1, 'ligando': 2, 'toda': 4, 'hr': 1, 'enchendo': 1, 'saco': 1, 'assunto': 1, 'ódio': 1, 'estupradinh': 1, 'dei': 1, 'oi': 1, 'ksksk': 1, 'harolds67747324': 1, 'oldguy_steve': 1, 'pot': 1, 'nothing': 1, 'behaviour': 1, 'judicial': 1, 'system': 2, 'propaganda': 2, '(msm)': 1, 'fault': 1, '7sstarpromotion': 1, 'gonzalez4ny': 1, '“the': 1, 'false': 2, 'two': 1, 'respects': 1, 'fellow': 1, 'candidate': 1, 'kristen': 1, 'gonzalez': 1, 'konst': 1, 'self-described': 1, 'democratic': 1, 'sociali…': 1, 'dukeebbz': 1, 'catfish': 1, 'am': 1, 'running': 1, 'favourite': 1, 'bakisusa': 1, 'horn🙌😂😂': 1, 'mooneyandrea': 1, 'youtube': 1, 'soumanuella_': 4, 'pego': 4, 'ônibus': 4, 'motorista': 4, 'voltar': 4, 'casa': 5, 'atrasei': 4, 'pouco': 5, 'viu': 4, 'da': 12, 'ponta': 4, 'passarela…': 4, 'pois': 2, 'assoprei': 1, 'fuligem': 1, 'comendo': 1, 'meu': 4, 'doce': 1, 'defumado': 1, 'https//tco/1whjidq1pj': 1, 'waltshaub': 2, 'filling': 2, 'top': 2, 'positions': 2, 'shadow': 2, 'paid': 3, 'gross': 2, 'pres…': 2, 'ashposton': 1, 'please': 1, 'talk': 1, 'agent': 2, 'editor': 1, 'especially': 1, 'bn': 1, 'i’m': 2, 'misin…': 2, 'hypocrisy_45': 1, 'kellyscaletta': 1, 'employs': 1, '77000': 1, 'today': 3, 'roman4_': 1, 'convencida': 1, 'tu': 3, 'vacuo': 1, 'xivtroy': 2, 'once': 2, 'date': 2, 'enjoyed': 2, 'say-bloody-something': 2, 'when': 5, 'wait': 2, 'say': 2, 'som…': 2, 'iddocadi': 1, 'combating': 1, 'https//tco/gnyave3q88': 1, 'dannygladiolas': 2, 'ethlegacy': 1, 'names…': 1, 'dont': 1, 'squat': 1, 'usernames': 1, '1k': 1, 'followers': 1, 'new': 2, 'space': 1, 'its': 1, 'good': 2, 'davinbasi96': 1, 'milesdeutscher': 1, 'mamalew9': 1, 'sawyerhackett': 1, 'abbott': 1, 'repeatedly': 1, 'texas': 1, \"he's\": 1, 'made': 2, 'money': 2, 'corporate': 1, 'lobbyists/donors': 1, 'gun': 1, 'lobb…': 1, 'buggyprince': 1, 'giggling': 1, 'adhd': 1, 'brysonhiskey11': 1, 'joelbdenning': 1, 'last': 1, 'an': 2, 'lds': 1, 'prophet': 1, 'stated': 2, 'had': 4, 'received': 2, 'revelation': 1, 'where’s': 1, '“revelation': 1, 'gordon': 1, 'b': 2, 'hinckely': 1, 'build': 1, 'conference': 1, 'center”': 1, 'scripture': 1, 'modern': 1, 'prophets': 1, 'either': 1, 'frauds': 1, 'cowards': 1, 'both': 1, 'https//tco/en2y8hqyi3': 1, 'sabrina_gomes_u': 1, 'decibels7': 1, 'caroilhabelas2': 1, 'andressa': 1, 'kim': 1, 'ramon': 1, 'maely': 1, 'thayna': 1, 'estamos': 1, 'nessa': 2, 'situação': 1, 'neste': 1, 'exato': 1, 'momento': 1, 'peterobi': 1, 'approach': 1, 'official': 1, 'kick': 1, 'off': 6, '2023': 1, 'election': 2, 'become': 2, 'evident': 1, 'opposition': 1, 'adopted': 1, 'dudaprocopio1': 2, 'esses': 1, 'meninos': 1, 'activepatriotuk': 1, 'hear': 1, 'wunder': 1, 'twittersafety': 1, 'constitution': 2, 'suits': 1, 'head': 2, 'https//tco/6kwyn656bv': 1, 'argoii_': 1, 'aí': 2, 'dele': 2, 'fica': 1, 'preso': 1, 'na': 11, 'caverna': 1, 'ciclope': 1, 'eles': 2, 'constroem': 1, 'elo': 1, 'empatia': 1, 'possam': 1, 'morrer': 1, 'outro': 2, 'morre…': 1, 'morgmirim': 1, 'lavar': 1, 'banheiro': 1, 'arrumar': 1, 'casa…': 1, 'quem': 5, 'importa': 1, 'jotarcv': 2, 'ent': 1, 'ta': 4, 'lobastovairina': 1, 'altcoindailyio': 1, 'okiespacequeen': 1, 'win': 1, 'zoom': 1, 'kristinabetinis': 1, '\\u2066twitter\\u2069': 1, 'placing': 1, 'warnings': 1, 'suggesting': 1, 'links': 1, 'website': 1, 'wsws': 1, 'systematically': 1, 'an…': 2, 'soltinker_nft': 1, 'confirmed\\n\\nkoolk123456': 1, 'officially': 1, 'advisor': 1, 'one': 4, \"solana's\": 1, 'th…': 2, 'beledbylove': 1, 'bmajors80': 1, 'witness': 1, 'fight': 2, 'going': 3, 'catholic': 1, 'church': 1, 'denominations': 1, 'conservative': 1, 'christians': 1, 'aren’t': 1, 'pastor': 1, 'richardgrenell': 1, 'lol': 1, 'guy': 1, 'literally': 1, 'america’s': 1, 'fakiest': 1, 'news': 4, 'steele': 1, 'dossier': 1, 'claiming': 1, 'russian': 1, '-…': 1, 'ir': 4, 'carregar': 2, 'celular': 2, 'aqui': 1, 'provavelmente': 1, 'demorar': 1, 'caralho': 2, 'até': 3, '100': 1, 'fodaseeeee': 1, 'nd': 2, 'interessante': 1, 'ver': 2, 'nele': 1, 'irei': 1, 'jogar': 2, 'joguinho': 1, '🏳\\u200d🌈💋': 1, 'freedom-loving': 1, 'uk': 1, 'helping': 1, 'usa': 1, 'destroy': 1, 'https//tco/y4kxjq1jhx': 1, 'mysocialcomment': 1, 'jjkale2': 1, 'channel9': 1, 'irrelevant': 1, 'albo': 1, 'himself': 1, 'performed': 1, 'pathetic': 1, 'stunt': 1, 'losing': 2, 'f-ing': 1, 'minds': 1, 'thackerpd': 1, 'internal': 1, 'documents': 1, 'examining': 1, 'happened': 1, 'between': 2, 'white': 1, 'house': 1, 'tech': 1, 'companies\\nhttps//…': 1, 'also': 4, 'seven': 1, 'old': 1, 'superfan': 1, 'daughter': 1, 'little': 3, 'grumpy/jealous': 1, 'thedecemberists': 1, 'without': 4, 'morbid': 1, 'thing': 1, 'wanders': 1, 'singing': 1, 'most': 5, 'dreadful': 1, 'colinmeloy': 1, 'lyrics': 1, '“hello': 1, 'colin”': 1, 'she': 2, 'says': 1, '❤️': 1, 'mikecompton': 1, 'democracy': 1, 'work': 3, 'rinos': 1, 'lefties': 1, \"we'll\": 1, 'save': 1, 'nation': 1, 'tyrannical': 1, 'ways': 1, 'another63975000': 1, 'saylor': 1, 'rssyda15': 1, 'furrincrypto': 1, 'biggest_crypto': 1, 'belinh4x': 1, 'cansada': 1, 'ultimamente': 1, 'paz': 1, 'richsignorelli': 1, 'same': 4, 'disgrace': 1, 'danger': 1, '\\nfacebook': 1, 'robert': 2, 'kennedy…': 1, 'rldaf': 2, 'marieto71135330': 1, '61_bauhaus': 1, 'poor': 1, 'mp': 2, 'violently': 1, 'murdered': 1, 'air': 1, 'brushed': 1, 'within': 1, 'christinapushaw': 1, 'kylamb8': 1, 'maxnordau': 1, 'end-state': 1, 'liberalism': 1, 'could': 1, 'replace': 1, 'liberals': 2, 'decades': 1, 'laters': 1, 'sophiadahl1': 1, 'et_sharing': 1, 'incrementallog1': 1, 'd_r_nought': 1, 'senatorsalma': 1, 'michele_audette': 1, 'sendbellemare': 1, 'senatorwanda': 1, 'senatorrobblack': 1, 'sen…': 1, 'pricarolzin': 1, 'gleekeye': 1, 'hanna': 1, 'mulher': 1, 'morta': 1, 'ithink': 1, 'thereare': 1, 'fatal': 1, 'flaws': 1, 'built': 1, 'into': 1, 'prevents': 1, 'eliminating': 1, 'threats': 1, 'involve': 1, 'criminality': 1, 'remedial': 1, 'action': 2, 'takes': 1, 'forever': 1, 'society': 1, 'suffers': 1, 'damaging': 1, 'delays': 1, 'needed': 2, 'justice': 1, 'truth': 1, 'md_mdpartner': 2, 'steady': 1, 'fills': 1, '\\U0001faa3': 1, 'deles': 2, 'também': 1, 'arturrios17': 1, 'irmão': 1, 'solução': 1, 'fifinha': 1, 'aq': 1, 'cm': 1, 'smp': 1, 'lalisfvrt': 1, 'vamos': 1, 'bater': 1, '2': 2, 'sei': 1, 'yt': 2, 'mamães': 1, 'comandam': 1, 'lisa': 1, 'sozinha': 1, 'tirando': 1, 'mt': 1, 'view': 1, 'bateu': 1, '70m': 1, '24h': 1, 'qm': 2, 'dirá': 1, 'bp': 1, 'mahadali0424': 1, 'freepalestinee7': 1, 'imrankhanpti': 1, 'poater': 1, 'koi': 1, 'bna': 1, 'leta': 1, 'ha': 1, 'bhai': 1, 'aolidd': 1, 'proofs': 1, 'took': 1, 'court\\nwe': 1, 'muslims': 1, 'u': 2, 'knowing': 1, 'hadees': 1, 'regarding': 1, 'confirmation\\nhope': 1, 'research': 1, 'vivendonoff': 1, 'acha': 1, 'ficar': 1, 'triste': 1, 'bobeira': 1, 'pq': 3, 'sensível': 1, 'jamesbradleyca': 1, 'biden': 2, '32': 1, 'past': 1, '48': 1, 'taking': 1, 'questions': 2, 'press': 1, 'hasn’t': 1, 'on-camera': 1, 'interv…': 1, 'danielwicharz': 1, 'dion03509767': 1, 'frank_thelen': 1, 'isakayath_': 1, 'amo': 3, 'puc': 2, '\\n\\na': 1, 'filha': 1, 'fazia': 1, 'psico': 1, 'achou': 1, 'maconha': 1, 'query_queen339': 4, 'there’s': 5, 'facts\\n1': 4, 'barnesandnoble': 4, 'refusing': 4, 'stock': 4, 'authors': 4, 'shelve…': 4, '2rawtooreal': 1, 'ima': 1, 'bout': 1, 'tf': 1, 'outta': 1, 'landon': 1, 'romano': 1, 'president': 1, 'joe': 1, 'cancel': 1, 'student': 1, 'loan': 1, 'debt': 1, 'congressional': 1, 'appr…': 1, 'right': 1, 'here👇🏾👇🏾👇🏾👇🏾': 1, 'let’s': 1, 'folks': 1, 'terrorists': 1, 'tools': 1, 'dis/misinformation': 1, 'fear': 1, 'informed': 1, 'definitely': 1, 'unafraid': 1, 'votebluetosaveamerica': 1, 'https//tco/7mimjk7dkh': 1, 'rrrrrrrrrrrani': 1, 'jeuujo': 1, 'onbd_art': 1, 'baiweiart': 1, 'superrare': 1, 'kkkkkkkkkk': 1, 'vei': 1, 'https//tco/hsae19eo5u': 1, 'cbcnews': 1, 'omg': 1, 'another': 3, 'reason': 1, 'him': 2, 'wallow': 1, 'pit': 1, 'self': 1, 'aggrandizement\\nthis': 1, 'sickening': 1, 'because': 1, 'liberal': 1, 'outlets': 1, 'absolutely': 1, 'gushing': 1, 'morrendo': 1, 'gnt': 1, 'gostou': 1, 'https//tco/zcv9wzajbm': 1, 'anncoulter': 1, 'stelter': 1, 'respected': 1, 'media': 2, 'journalist': 1, 'cryptoolivin': 1, 'kc72576_tech': 1, 'professorferg06': 1, 'f1photographer': 1, 'majority': 2, 'jabbed': 1, '“friend”': 1, 'they’re': 1, 'washoe': 1, 'county': 1, 'district': 1, 'reporting': 2, '9th': 1, 'monkeypox': 1, 'michelle': 1, 'wagner': 1, 'director': 1, 'clinical': 1, 'services': 1, 'northern': 2, 'nevada': 1, 'hopes': 1, 'concerns': 1, 'symptoms': 1, 'won’t': 1, 'them': 3, 'misinformation\\nhttps//tco/wddvcgixty': 1, 'https//tco/71d5c30s4r': 1, 'tbm': 1, 'tomar': 1, 'cu': 1, 'doidao': 1, 'https//tco/yzab9cobcz': 1, 'luluphooey': 1, 'imagine': 1, 'outrage': 1, 'macron': 1, 'merkel': 1, 'come': 1, 'tv': 2, 'circumstances': 1, 'let': 1, 'miborgees': 1, 'colorswall': 1, 'porrluaa': 1, 'krowamoo': 1, 'jubacristine96': 1, 'crashbandcot': 1, 'valha': 1, 'tinaoliver77': 1, 'dingy': 1, 'crisis': 2, 'political': 2, 'establishment': 1, 'yet': 2, 'johnnjenga': 1, 'gracious': 1, 'explaining': 1, 'constitutional': 1, 'tenets': 1, 'neighbor': 1, 'cheptongei': 1, 'davidndii': 1, 'educated': 1, 'ills': 1, 'printing': 1, 'ahead': 1, 'local': 1, 'terms': 2, 'rotziengrant': 1, 'ugc': 1, 'creators': 1, 'everywherefor': 1, 'agencies': 1, 'budget': 1, 'brands\\n-': 1, 'dudes\\n-': 1, 'moms': 1, '+': 5, 'families\\n-': 1, 'couples\\n-…': 1, 'jasminezroberts': 1, 'marknb00': 2, 'arstories': 2, 'skydeas1': 1, 'avibarzeev': 1, 'auradeluxe': 1, 'debfx': 1, 'immersivejourno': 1, 'skiprizzovr': 1, 'melslater': 1, 'jasmine': 1, 'learn': 2, 'answer': 1, 'question': 1, 'scobleizer': 1, '_mpell_': 1, 'so-called': 1, 'futurist': 1, 'promote': 1, 'actual': 1, 'pioneers': 1, 'mark': 1, 'catching': 1, 'tonight': 1, 'join': 3, 'virtually': 1, 'pesadelo': 1, 'começou': 1, 'https//tco/3p0mrq2an1': 1, 'diasmonyy': 1, 'oxe': 1, 'imagina': 1, 'vida': 1, 'ate': 2, 'hj': 1, 'https//tco/kz1kvlchsq': 1, 'jonorfolk': 1, 'telegraph': 1, 'called': 2, 'name': 2, 'sun': 1, 'decried': 1, 'granny': 1, 'murderers': 1, 'c…': 1, 'governortomwolf': 1, 'gifts': 1, 'pennsylvania': 1, 'legislators': 1, 'permitted': 1, 'accept': 1, 'current': 1, 'law\\n': 1, '\\n🥂': 1, 'lavish': 1, 'outing\\n⚾️': 1, 'tickets\\n✈️': 1, 'travel…': 1, 'bitswings': 1, 'd_bone': 1, 'cannot': 1, 'understand': 2, 'direct': 1, 'quote': 1, 'recognized': 1, 'scientific': 1, 'journ…': 1, 'thssaway': 1, 'essa': 3, 'menina': 1, 'muellershewrote': 1, 'thank': 2, 'clarifying': 1, 'laymen': 1, 'appreciated': 1, 'chaos': 1, 'misinformation👍💙': 1, 'koko401401': 2, 'visegrad24': 2, 'prime': 1, 'minister': 1, 'young': 1, 'woman': 1, 'enjoys': 1, '\\n\\nforget': 1, 'harmles…': 1, 'interview': 1, 'hodgetwins': 1, 'serio': 1, 'espero': 1, 'pior': 1, 'decepciono': 1, 'catturd2': 1, 'reported': 1, 'nuel_dvine': 1, 'temi_jasmine_': 1, 'olawumi_lwl': 1, 'tomiahonen': 2, 'mar-a-lago': 2, 'extortion': 3, 'files': 2, 'thread': 2, '31/\\n\\nso': 1, 'rough': 1, 'likely': 1, 'file': 1, 'consists': 1, 'of\\nall': 1, 'gop': 2, 'senators\\nal…': 1, 'bota': 1, 'pvf😫😫😫\\no': 1, 'congrès': 1, 'du': 1, 'obeegadoo': 1, 'parle': 1, 'd’une': 1, 'alliance': 1, 'morisien': 1, 'unie\\xa0': 1, 'https//tco/t1z7lrllmk': 1, 'smilan317': 1, 'lives': 1, 'seenandforeseen': 1, 'cut': 1, 'fertilizer': 1, 'choke': 1, 'food': 1, 'supply': 1, 'nudging': 1, 'everyone': 1, 'towards': 1, 'toxic': 1, 'insect': 1, 'protein': 1, 'poison': 1, 'morowxxx': 1, 'conceito': 1, 'achar': 1, 'super': 1, 'necessário': 1, 'falar': 3, 'incomodando': 1, 'mesmo': 3, 'querer': 1, 'guardando': 1, 'mim': 2, 'msm…': 2, 'k6data': 1, 'exception': 1, 'deeply': 1, 'dishonest': 1, 'hypocrites': 1, 'boris': 1, 'johnson': 1, 'preferred': 1, 'job…': 1, 'waltonfilho1': 1, 'geglobo': 1, 'fosse': 1, 'tinham': 1, 'inventado': 1, 'pênalti': 1, 'américa': 1, 'dado': 1, 'segundo': 1, 'amarelo': 1, 'miranda': 1, 'num': 2, 'lance': 1, 'everaldo': 1, 'chega': 1, 'solando': 1, 'mrsjessica129': 1, '29/\\n\\nof': 1, 'course': 1, 'bannon': 1, 'spied': 1, 'donors': 1, 'gambling': 1, 'ha…': 1, 'willbyersk': 2, 'm4theux_': 2, 'pqp': 2, 'retdrw': 2, 'dou': 2, 'graças': 2, 'viver': 2, 'época': 2, 'ret': 2, 'l7': 2, 'hariel': 2, 'djonga': 2, 'froid': 2, 'teto': 2, 'paiva': 2, 'cabelinho': 2, 'orochi': 2, 'será': 1, 'sandman': 1, '🤔': 2, 'pedopetebidenus': 1, '_dirtiebertie': 1, 'mattxiv': 1, 'nope': 1, 'separate': 1, 'sweetie': 1, 'achava': 1, 'rap': 1, 'coreano': 1, 'https//tco/rqa1xu9gwk': 1, 'brooklynmarie': 1, 'again': 1, 'did': 1, \"wouldn't\": 1, 'able': 1, 'force': 1, 'endure': 1, '\"how': 1, 'misinforma…': 1, 'trimesp': 1, 'sorianpng': 1, 'semino_ass': 1, 'ansioso': 1, 'qual': 1, 'próximo': 1, 'hit': 1, 'dela': 2, 'depois': 2, 'abertura': 1, 'ass': 1, 'andado': 1, 'sumida': 1, 'twilighsz': 1, 'mrsinha_': 1, 'jharkhand': 1, 'hindu': 1, 'girl': 1, 'suman': 1, 'abducted': 1, 'stripped': 1, 'sit-ups': 1, 'infront': 1, 'panchayat': 1, 'mukhiya': 1, 'wasim’s…': 1, '\"the': 1, 'secretary': 1, 'state': 1, 'ireland': 1, 'shailesh': 1, 'vara': 1, 'pledged': 1, 'tirelessly': 1, 'restore': 1, 'stormont': 1, 'institutions\"\\nshaileshvara': 1, 'deceit': 1, 'easy': 1, 'sos': 1, '\\nuseless': 1, 'https//tco/cco7pbdf4t': 1, 'factola_2022': 1, 'nujscotland': 1, 'sleekit': 1, 'shit': 1, 'jennjenn699': 1, 'katiealum': 1, 'd_jeneration': 1, 'she’s': 1, 'govt': 1, 'acct': 2, 'lie': 1, 'spread': 2, 'kinds': 1, 'reg': 1, 'suspended': 1, 'should’ve': 1, 'shut': 1, 'long': 1, 'ago': 1, 'questões': 1, 'legais': 1, 'esse': 1, 'tweet': 1, 'eh': 3, 'piada': 1, 'mingyu': 1, 'bixinha': 1, 'baitola': 1, 'cabe': 1, 'faz': 2, 'fora': 1, 'câmeras': 1, 'problema': 1, 'https//tco/brtusuazac': 1, 'veganinho_547': 1, 'liixmoonn': 1, 'ethiopia': 1, 'eritrea': 1, 'formally': 1, 'request': 1, 'whoafro': 1, 'intervene': 1, 'drtedros': 1, 'countries': 1, 'deserve': 2, 'comments': 1, 'regional': 1, 'appropriate': 1, '_africanunion': 1, 'moetitshidi': 1, 'redwanhussien': 1, 'demekehasen': 1, '_politicsaddict': 1, 'proudsecular': 1, 'moni9795': 1, 'opindia_com': 1, 'proud': 1, 'secular': 2, 'against': 1, 'india': 1, 'perfect': 1, 'body': 1, '😢': 1, 'https//tco/ya6uwjmflq': 1, 'zurajanai33': 1, 'afcr0n': 1, 'entra': 1, 'trend': 1, 'fckdavee': 1, 'https//tco/0ftal0i3dp': 1, 'iuchobr': 1, 'oláa': 1, 'kwai': 1, 'dando': 1, '3400': 1, 'cadastrar\\n(funciona': 1, 'ja': 2, 'conta': 2, 'criar': 2, 'nova)\\né': 1, 'perfil': 1, 'clicar': 1, 'moedinha': 1, 'colocar': 1, 'código': 1, '264': 1, '004': 1, '890\\npromo': 1, 'ativada': 1, 'pix': 1, 'hora': 2, 'spot': 1, 'ggsinclair': 1, 'disagreed': 1, 'tory': 1, 'candidates': 1, 'perth': 1, 'hustings': 2, 'tarred': 1, 'factions': 1, 'angry': 1, 'insulting': 1, 'quietly': 1, 'present': 1, 'parties/': 1, '\\nwhatever': 1, 'cover': 1, 'tiny': 1, 'minority': 1, 'voters': 1, 'sesedota': 1, 'teddyroosevalt': 1, 'rakkudos': 1, 'yeah': 1, 'change': 1, 'sentiment': 1, 'team': 2, 'choosing': 1, 'over': 1, 'zuhaibk007': 1, 'ok': 2, 'streaming': 1, 'floods': 1, 'gona': 1, 'give': 1, 'trp': 1, 'where': 1, 'influencers…': 1, 'gabriell_borota': 1, 'livroscompromo': 1, 'faço': 1, 'gastar': 1, 'dinheiro': 1, 'livros': 1, 'gostar': 1, 'sinceramente': 1, 'consigo': 2, 'coisa': 3, 'melhor': 1, 'qualquer': 2, 'quiser': 1, 'desgastando': 1, 'saramoll8': 1, 'https//tco/zuah6ps7lb': 1, 'https//tco/7a7cmow9ht': 1, 'midagespread': 1, 'aaronbastani': 1, 'revenue': 1, 'strikes': 1, 'illegal': 1, 'deliberate': 1, 'act': 1, 'tories': 1, 'ensure': 1, 'inconvenienc…': 1, 'contém': 1, 'ironia': 1, 'rapaziada': 1, 'https//tco/30c6mi27fd': 1, 'emuzuchan': 1, '眠っていた羊たちが目を覚まし、何が起きているのか不思議に思い、民主党とmsmの嘘の言い訳を見破り始めているのだ。': 1, 'gamedevdotcom': 1, 'according': 1, 'software': 1, 'developer': 1, 'perforce': 1, 'developers': 1, 'remain': 1, 'uncertain': 1, 'nfts': 1, 'actu…': 1, 'mania': 1, 'horrível': 1, 'mão': 1, 'ligação': 1, 'alguém': 1, 'mandar': 1, 'lado': 1, 'sem': 2, 'previamente': 1, 'sequer': 1, 'saber': 1, 'trata': 1, 'geral': 1, 'reclamando': 1, 'liguei': 1, 'elas': 1, 'xom': 1, 'umas': 1, 'amg+': 1, 'sugarshack0': 1, 'squeeze': 1, 'after': 1, 'enjoy': 1, 'jungle': 1, 'washupfootball': 1, 'technopixel_org': 1, 'place\\nwhitepaper✅\\nroadmap✅\\nwebhttps//tco/p2hzrauypd': 1, '✅\\ntghttps//tco/ri59eas9qg': 1, 'brunoamato_1': 1, \"hasn't\": 1, 'fox': 1, 'leaders': 1, 'will_oliveiraps': 1, 'gosta': 1, 'zueira': 1, 'guerra': 1, 'consoles': 1, 'são': 2, 'muito': 1, 'chatos': 1, 'd4444syd': 1, 'iblogtoglasgow': 1, 'awewondering': 1, '🏴\\U000e0067\\U000e0062\\U000e0065\\U000e006e\\U000e0067\\U000e007f': 1, 'supporters🤣😅': 1, \"you'd\": 1, 'unionist': 1, 'handlers': 1, 'btparties': 1, 'conservatives': 1, 'labour': 1, 'vote_libdems': 1, '🏴\\U000e0067\\U000e0062\\U000e0073\\U000e0063\\U000e0074\\U000e007f': 1, 'amp🏴\\U000e0067\\U000e0062\\U000e0073\\U000e0063\\U000e0074\\U000e007f🤣😅🤣😅🤣': 1, 'tsk': 2, '🇬🇧ampbbc🇬🇧itv🇬🇧': 1, 'c4🇬🇧': 1, '😂😂🏴\\U000e0067\\U000e0062\\U000e0073\\U000e0063\\U000e0074\\U000e007famp🇪🇺': 1, 'works': 1, '4': 1, 'vvthe': 1, '🇬🇧': 1, 'meia': 1, 'passar': 2, 'chuva': 1, 'indo': 1, 'academia': 1, 'embaixo': 1, 'palmeirense': 1, 'torcendo': 1, 'flamengo': 1, 'sobra': 1, 'porcada': 1, 'timeco': 1, 'competição': 1, '✔️': 1, 'mtv': 1, 'vmas': 1, 'announces': 1, 'award': 1, 'category': 1, 'best': 1, 'metaverse': 1, 'performance\\n✔️artificial': 1, 'lil': 1, 'miquela': 1, 'signs': 1, 'pacsun\\n✔️': 1, 'random': 2, 'stuff': 1, 'rugged': 1, 'end': 1, 'next': 1, 'week': 1, 'kimmdmang': 1, 'ateezunionbra': 1, 'wooyoung': 1, 'cansa': 1, 'di': 1, 'si': 1, 'humilhar': 1, 'abysseokjin_bts': 1, 'achei': 1, 'mv': 1, 'bonito': 1, 'misturada': 1, 'aquele': 1, 'toque': 1, 'feio': 1, 'letra': 1, 'sentido': 1, 'opinião': 2, '☠️☠️☠️☠️': 1, 'fortaleço': 1, 'amizade': 1, 'passageiros': 1, 'motoristas/cobradores': 1, '🤝': 1, 'https//tco/ihbcgzbo7h': 1, 'difficult': 1, 'rectifying': 1, 'arithmetic': 1, 'error': 1, 'opposed': 1, 'polls': 1, 'thepiclord': 1, 'bitcoin_is_': 1, 'morlockp': 1, 'eigenrobot': 1, \"here's\": 1, 'responded': 1, \"you're\": 1, 'rsims': 1, 'amyhoy': 1, 'earthlingworks': 1, 'tenlinesofcode': 1, 'https//tco/xdgex2geh0': 1, 'aquelas': 1, 'coisinhas': 1, 'leves': 1, 'sabe': 3, 'kkk👑': 1, 'allefandr1': 1, 'chata': 1, '👀': 1, 'shillin_villian': 1, 'mostly': 1, 'don´t': 1, '(kind': 1, 'of)': 1, 'auto-list': 1, 'it´s': 1, 'ridiculous': 1, 'number': 1, 'allocations': 2, 'davidkurten': 1, 'admits': 1, 'lockdowns': 1, 'causing': 1, 'excess': 1, 'deaths': 2, 'experimental': 1, 'injections\\nhttps//…': 1, 'vdare': 1, 'wanted': 1, 'deny': 1, 'green': 1, 'cards': 1, 'welfare': 1, 'users': 1, 'left': 1, 'complained': 1, 'bitterly': 1, 'though': 2, \"they'd\": 1, 'pushing': 1, '\"immigrant…': 1, 'https//tco/xzudohtlm5': 1, 'https//tco/oddsghzt0m': 1, 'nothoodlum': 1, 'f': 1, 'kennedy': 1, 'jr': 1, 'personally': 1, 'kicked': 1, 'ig': 1, 'owned': 2, 'meta—has': 1, 'booted': 1, \"kennedy's\": 1, 'nonp…': 1, 'disabledphd': 1, 'ica23': 1, 'call': 1, 'panelists\\n\\nlooking': 1, '7-8': 1, 'participants': 1, 'roundtable': 1, 'discussion': 1, 'mediation…': 1, 'echelon_joker': 1, 'anwarcryptoo': 1, 'echelonfdn': 1, 'rec777777': 1, 'petrol': 1, 'already': 1, '30p': 1, 'around': 2, 'inflation': 1, 'blip': 1, 'covid': 1, \"merkel/eu's\": 1, 'disastrous': 1, 'lifeorbethh': 1, 'proposital': 1, 'entao': 1, 'parabens': 1, 'ficou': 1, 'incomodo': 1, 'fiquei': 1, 'incomodadíssima': 1, 'odiei': 1, 'kkkk': 1, 'aquihaymelaza': 1, 'tehagocafe': 1, 'dije': 1, 'ke': 1, 'eto': 1, 'wadafak': 1, 'https//tco/mylt11ijfu': 1, 'questiontheans1': 1, 'richard51650429': 1, 'p_mcculloughmd': 1, 'blackrock': 1, 'vanguard': 1, 'bill': 1, 'gatesand': 1, 'bmgf': 1, 'mercola': 1, 'ny': 1, 'times': 1, 'prevent': 1, 'infections': 1, 'yam_fuji': 1, 'rovercrc': 1, '😃\\nhttps//tco/exmz3jujkw': 1, 'satoshibles': 1, 'ladyofcrypto1': 1, 'stacks': 1, 'fellipe10__': 1, 'amirhaniallhyar': 1, 'skills': 1, 'compliment': 1, 'each': 1, 'other\\n\\nmarketing': 1, 'coding': 1, '=': 2, 'rich\\n\\nsales': 1, 'systems': 1, 'rich\\n\\npersuasion': 1, 'writing…': 1, 'sextou': 1, 'nesse': 1, 'friozinho': 1, 'conchinha': 1, 'bobpanna': 1, 'gestaotricolor': 1, 'ahh': 1, 'deixar': 1, 'vender': 1, 'egoainda': 1, 'qd': 1, 'jogador': 1, 'quer': 1, 'pd': 1, 'refletir': 1, 'desempenho': 1, 'oq': 1, 'podia': 1, 'ajax': 1, 'fez': 1, 'agr': 1, 'respirar': 1, 'novos': 1, 'ares': 1, 'novo': 1, 'desafio': 1, 'bbsete_': 1, 'neurose': 1, 'faith2cu': 1, 'soth4043': 1, 'jeffmullis4': 1, 'donbikes4fun': 1, 'geraldorivera': 1, 'fbi': 1, '–': 2, 'material': 1, 'yourself': 1, 'make': 1, 'decision': 2, 'tells': 1, 'democrat': 1, 'brain': 1, 'rattling': 1, 'somewhere': 1, 'lord_defi22': 1, 'xx17965797n': 1, 'greta': 1, 'thunberg': 1, 'sings': 1, '\"you': 1, 'shove': 1, 'climate': 1, 'ass\"': 1, '\\n\\n😂how': 1, 'dare': 1, 'https…': 1, 'fyodorluvs': 1, 'lógica': 1, '\"': 1, 'fds': 1, 'morreu': 1, 'ignorar': 1, 'kkkkj': 1, '😋\"\\nquando': 1, 'querem': 1, 'pano': 1, 'tiram': 1, 'rabo': 1, 'ronaldotan15': 1, 'mick7192': 1, '😃': 1, 'https//tco/a83h31kx9e': 1, 'laurenroosevel2': 1, 'willcamiccia': 1, 'kkkkkkkkkok': 1, 'gostoso': 1, 'te': 1, '🤟': 1, 'ullasaraiva': 1, 'comentar': 1, 'logo': 1, 'sobre': 1, 'aparência”': 1, 'constranger': 1, 'às': 1, 'vezes': 1, 'lidar': 1, 'comentários': 1, 'maldosos': 1, 'frankdegods': 1, 'y00tlist': 1, 'general_sol': 1, 'similar': 1, 'idea': 2, 'pre': 1, 'airdrop': 1, 'sol': 1, 'army': 1, 'expansion': 1, 'shift': 1, 'wl': 1, 'spots': 1, 'future': 1, 'launches': 1, 'daos': 1, 'c_s_skeptic': 1, 'phoebeplague': 1, 'godsfavoriteant': 1, 'friend': 1, 'yours\\n\\nname': 1, 'five': 1, 'scafaria': 1, 'broken': 1, 'pathologically': 1, 'addicted': 1, 'narrative': 3, 'sanity': 1, 'halfway': 1, 'repub…': 1, 'alá': 1, 'ó': 1, 'sanha': 1, 'loole': 1, 'reduzir': 1, 'reles': 1, 'aberta': 1, 'alinhada': 1, 'esforços': 1, 'fórum': 1, 'econômico': 1, 'mundial': 1, '\\nthe': 1, 'monopoly': 1, 'ours': 1, 'muahahaha': 1, '\\nhttps//tco/5w56jvfaq5': 1, 'threadgirl_eth': 1, 'tho': 1, 'happy': 1, 'nameits': 1, 'brand': 1, 'quinnvestlamb': 1, 'cryptowhale': 1, 'inspocrypto': 1, 'concodanomics': 1, 'adalassio': 1, 'wef': 1, 'announce': 1, 'recruitment': 1, '\"information': 1, 'warriors\"': 1, 'media\\nthe': 1, 'world': 1, 'economic': 1, 'forum': 1, 'whoysfer': 1, 'marthinetto': 1, 'daqui': 1, 'uns': 1, 'simorre': 1, 'rcryptoreddit': 1, 'impopular': 1, 'vulgão': 1, 'nível': 1, 'ícaro': 1, 'análises': 1, 'https//tco/zgxsuvppwk': 1, 'craigworcest': 1, 'yes': 1, 'trying': 2, 'themselves': 1, 'that’s': 1, 'having': 1, 'benefit': 1, '🤷\\u200d♂️': 1, 'dhonifiedrebel': 1, 'ella': 1, 'online': 2, 'mundu': 1, 'campaigns': 1, 'kuda': 1, 'waste': 1, 'ey': 1, 'content': 1, 'daily': 1, '😂🙏\\nipude': 1, 'ki': 1, 'ravad…': 1, 'pensando': 1, 'seriamente': 1, 'meter': 1, '+18': 1, 'lascar': 1, 'foda-se': 1, 'vo': 1, 'continuo': 1, 'contigo…': 1, 'https//tco/tqofpocz8b': 1}\n"
     ]
    }
   ],
   "source": [
    "#Code for our tokenizing and set calculation will be found here\n",
    "\n",
    "#testDF = pd.DataFrame({\"a\": [\"a b c\",\"a d e\",\"a a a\"], \"b\":[\"b\",\"b\",\"b\"], \"c\":[\"c\",\"c\",\"c\"]}, index=[1,2,3])\n",
    "#for translate trick, see: https://stackoverflow.com/questions/3939361/remove-specific-characters-from-a-string-in-python\n",
    "def tokenizeSetMap(text,wSet,wDict):\n",
    "    for token in (text.split(\" \")):\n",
    "        token = token.translate({ord(c): None for c in '!@#$?:;,.[]<>@&*'}).lower()       \n",
    "        wSet.add(token)\n",
    "        if (token in wDict):\n",
    "            wDict[token] = wDict[token]+1\n",
    "        else:\n",
    "            wDict[token] = 1\n",
    "    return\n",
    "\n",
    "#Signature: DF -> Set, Dict\n",
    "def constructWordSet(targetDF,colName):\n",
    "    #Extract text column from data frame\n",
    "    wordSet = set()\n",
    "    wordDict = {}\n",
    "    targetDF[\"text\"].apply(tokenizeSetMap, args=(wordSet,wordDict,))\n",
    "    return [wordSet, wordDict]\n",
    "\n",
    "hold = constructWordSet(skeptDF,\"text\")\n",
    "print(hold[1])"
   ]
  },
  {
   "cell_type": "markdown",
   "metadata": {},
   "source": [
    "The above is a huge mess. There are non-english words, lots of emoticons, misspellings, hashtags, random jibberish, textspeek, abbreviations...etc.\n",
    "\n",
    "Before I go into NL Processing, I should filter more text with the Twitter endpoint, to minimize work.\n",
    "\n",
    "Specifically, twitter can pre-filter the following:\n",
    "\n",
    "\"lang:en\" - only English tweets allowed (if they have been classified, not perfect).\n",
    "- \"followers_count:a..b\", \"tweets_count:a..b\", \"following_count:a..b\": Use this to cut out very new and very old accounts. We can find our \"sweetspot\" of users.\n",
    "\"-has:mentions\": Cut out tweets that mention other users\n",
    "\"-has:cashtags\", \"-has:hashtags\": cuts out tagged tweets (usually crap -by inspection).\n",
    "\n",
    "A new tweet set will be mined, using these rules.\n"
   ]
  },
  {
   "cell_type": "markdown",
   "metadata": {},
   "source": [
    "## SelfDF Results:"
   ]
  },
  {
   "cell_type": "code",
   "execution_count": null,
   "metadata": {},
   "outputs": [],
   "source": []
  },
  {
   "cell_type": "code",
   "execution_count": null,
   "metadata": {},
   "outputs": [],
   "source": []
  },
  {
   "cell_type": "markdown",
   "metadata": {},
   "source": [
    "## SkeptDF Results:"
   ]
  },
  {
   "cell_type": "code",
   "execution_count": null,
   "metadata": {},
   "outputs": [],
   "source": []
  },
  {
   "cell_type": "code",
   "execution_count": null,
   "metadata": {},
   "outputs": [],
   "source": []
  },
  {
   "cell_type": "code",
   "execution_count": null,
   "metadata": {},
   "outputs": [],
   "source": []
  },
  {
   "cell_type": "code",
   "execution_count": null,
   "metadata": {},
   "outputs": [],
   "source": []
  },
  {
   "cell_type": "code",
   "execution_count": null,
   "metadata": {},
   "outputs": [],
   "source": []
  },
  {
   "cell_type": "code",
   "execution_count": null,
   "metadata": {},
   "outputs": [],
   "source": []
  },
  {
   "cell_type": "code",
   "execution_count": null,
   "metadata": {},
   "outputs": [],
   "source": []
  },
  {
   "cell_type": "code",
   "execution_count": null,
   "metadata": {},
   "outputs": [],
   "source": []
  },
  {
   "cell_type": "code",
   "execution_count": null,
   "metadata": {},
   "outputs": [],
   "source": []
  },
  {
   "cell_type": "code",
   "execution_count": null,
   "metadata": {},
   "outputs": [],
   "source": []
  },
  {
   "cell_type": "code",
   "execution_count": null,
   "metadata": {},
   "outputs": [],
   "source": []
  },
  {
   "cell_type": "markdown",
   "metadata": {},
   "source": [
    "\n"
   ]
  },
  {
   "cell_type": "markdown",
   "metadata": {},
   "source": []
  }
 ],
 "metadata": {
  "celltoolbar": "Tags",
  "cite2c": {
   "citations": {
    "8394687/9ZZ65S4Q": {
     "author": [
      {
       "family": "M. Cvetkovic",
       "given": "Dragos"
      },
      {
       "family": "Doob",
       "given": "Michael"
      },
      {
       "family": "Sachs",
       "given": "Horst"
      }
     ],
     "collection-title": "Pure and Applied Mathematics",
     "edition": "1st",
     "id": "8394687/9ZZ65S4Q",
     "issued": {
      "year": 1980
     },
     "language": "English",
     "number-of-pages": "368",
     "number-of-volumes": "1",
     "publisher": "Academic Press",
     "shortTitle": "Spectra of Graphs",
     "title": "Spectra of Graphs: Theory and Application",
     "title-short": "Spectra of Graphs",
     "type": "book",
     "volume": "87"
    },
    "8394687/EVEKS8I8": {
     "URL": "https://forum.bodybuilding.com/showthread.php?t=166912491&subId3=xid:fr1605396294772jac",
     "container-title": "Cocoa as weight-loss accelerator: Study",
     "genre": "Post",
     "id": "8394687/EVEKS8I8",
     "issued": {
      "day": 26,
      "month": 3,
      "year": 2015
     },
     "language": "English",
     "title": "Cocoa as weight-loss accelerator: Study",
     "type": "post"
    },
    "8394687/FB5G7ZR9": {
     "URL": "https://informationisbeautiful.net/visualizations/snake-oil-scientific-evidence-for-nutritional-supplements-vizsweet/",
     "author": [
      {
       "family": "David McCandless",
       "given": ""
      },
      {
       "family": "Dr Stephanie Starling",
       "given": ""
      },
      {
       "family": "et. al",
       "given": ""
      }
     ],
     "container-title": "Snake-Oil Supplements",
     "genre": "Infographic",
     "id": "8394687/FB5G7ZR9",
     "issued": {
      "day": 24,
      "month": 4,
      "year": 2019
     },
     "language": "English",
     "shortTitle": "Snake-Oil Supp.",
     "title": "Snake-Oil Supplements",
     "title-short": "Snake-Oil Supp.",
     "type": "webpage"
    },
    "8394687/SZS6I8KD": {
     "URL": "https://www.imdb.com/title/tt0119177/?ref_=fn_al_tt_1",
     "author": [
      {
       "family": "Niccol",
       "given": "Andrew"
      }
     ],
     "genre": "Sci-Fi, Drama",
     "id": "8394687/SZS6I8KD",
     "issued": {
      "day": 24,
      "month": 10,
      "year": 1997
     },
     "language": "English",
     "publisher": "Colombia Pictures",
     "shortTitle": "Gattaca",
     "title": "Gattaca",
     "title-short": "Gattaca",
     "type": "motion_picture"
    }
   }
  },
  "kernelspec": {
   "display_name": "Python 3 (ipykernel)",
   "language": "python",
   "name": "python3"
  },
  "language_info": {
   "codemirror_mode": {
    "name": "ipython",
    "version": 3
   },
   "file_extension": ".py",
   "mimetype": "text/x-python",
   "name": "python",
   "nbconvert_exporter": "python",
   "pygments_lexer": "ipython3",
   "version": "3.8.10"
  }
 },
 "nbformat": 4,
 "nbformat_minor": 4
}

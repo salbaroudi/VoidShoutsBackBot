{
 "cells": [
  {
   "cell_type": "code",
   "execution_count": 2,
   "metadata": {
    "tags": [
     "a"
    ]
   },
   "outputs": [
    {
     "data": {
      "text/plain": [
       "RendererRegistry.enable('default')"
      ]
     },
     "execution_count": 2,
     "metadata": {},
     "output_type": "execute_result"
    }
   ],
   "source": [
    "from src.seanmod import *\n",
    "alt.renderers.enable('default') #otherwise, the chart will not render in the browser.\n"
   ]
  },
  {
   "cell_type": "markdown",
   "metadata": {
    "tags": [
     "mytag"
    ]
   },
   "source": [
    "Latex Example:\n",
    "\n",
    "$$ \\vert \\vert O - C \\vert \\vert < \\epsilon_{1}$$  AND\n",
    "\n",
    "$$ \\vert \\vert O - H \\vert \\vert < 0.05 \\times O $$ AND\n",
    "\n",
    "$$ \\vert \\vert O - L \\vert \\vert < 0.05 \\times O $$ AND\n",
    "\n",
    "$$ \\vert \\vert O - H \\vert - \\vert \\vert O - L \\vert \\vert < \\epsilon_{2} $$\n",
    "\n"
   ]
  },
  {
   "cell_type": "code",
   "execution_count": 1,
   "metadata": {
    "tags": [
     "qq"
    ]
   },
   "outputs": [
    {
     "ename": "ModuleNotFoundError",
     "evalue": "No module named 'vega_datasets'",
     "output_type": "error",
     "traceback": [
      "\u001b[0;31m---------------------------------------------------------------------------\u001b[0m",
      "\u001b[0;31mModuleNotFoundError\u001b[0m                       Traceback (most recent call last)",
      "Input \u001b[0;32mIn [1]\u001b[0m, in \u001b[0;36m<cell line: 4>\u001b[0;34m()\u001b[0m\n\u001b[1;32m      1\u001b[0m \u001b[38;5;66;03m#An example of an interactive Altair chart.\u001b[39;00m\n\u001b[1;32m      2\u001b[0m \u001b[38;5;66;03m#This works in an HTML converted notebook, as all charts are backed by\u001b[39;00m\n\u001b[1;32m      3\u001b[0m \u001b[38;5;66;03m#the javascript VEGA library, and JSON!\u001b[39;00m\n\u001b[0;32m----> 4\u001b[0m \u001b[38;5;28;01mfrom\u001b[39;00m \u001b[38;5;21;01mvega_datasets\u001b[39;00m \u001b[38;5;28;01mimport\u001b[39;00m data\n\u001b[1;32m      6\u001b[0m source \u001b[38;5;241m=\u001b[39m data\u001b[38;5;241m.\u001b[39mcars()\n\u001b[1;32m      8\u001b[0m alt\u001b[38;5;241m.\u001b[39mChart(source)\u001b[38;5;241m.\u001b[39mmark_circle()\u001b[38;5;241m.\u001b[39mencode(\n\u001b[1;32m      9\u001b[0m     x\u001b[38;5;241m=\u001b[39m\u001b[38;5;124m'\u001b[39m\u001b[38;5;124mHorsepower\u001b[39m\u001b[38;5;124m'\u001b[39m,\n\u001b[1;32m     10\u001b[0m     y\u001b[38;5;241m=\u001b[39m\u001b[38;5;124m'\u001b[39m\u001b[38;5;124mMiles_per_Gallon\u001b[39m\u001b[38;5;124m'\u001b[39m,\n\u001b[1;32m     11\u001b[0m     color\u001b[38;5;241m=\u001b[39m\u001b[38;5;124m'\u001b[39m\u001b[38;5;124mOrigin\u001b[39m\u001b[38;5;124m'\u001b[39m,\n\u001b[1;32m     12\u001b[0m )\u001b[38;5;241m.\u001b[39minteractive()\n",
      "\u001b[0;31mModuleNotFoundError\u001b[0m: No module named 'vega_datasets'"
     ]
    }
   ],
   "source": [
    "#An example of an interactive Altair chart.\n",
    "#This works in an HTML converted notebook, as all charts are backed by\n",
    "#the javascript VEGA library, and JSON!\n",
    "from vega_datasets import data\n",
    "\n",
    "source = data.cars()\n",
    "\n",
    "alt.Chart(source).mark_circle().encode(\n",
    "    x='Horsepower',\n",
    "    y='Miles_per_Gallon',\n",
    "    color='Origin',\n",
    ").interactive()"
   ]
  },
  {
   "cell_type": "code",
   "execution_count": null,
   "metadata": {},
   "outputs": [],
   "source": []
  },
  {
   "cell_type": "code",
   "execution_count": null,
   "metadata": {},
   "outputs": [],
   "source": []
  },
  {
   "cell_type": "markdown",
   "metadata": {
    "tags": [
     "cite"
    ]
   },
   "source": [
    "## Citations:\n",
    "\n",
    "1) “Cocoa as Weight-Loss Accelerator: Study.” 2015. Post. Cocoa as Weight-Loss Accelerator: Study. https://forum.bodybuilding.com/showthread.php?t=166912491&subId3=xid:fr1605396294772jac.\n",
    "\n",
    "2) David McCandless, Dr Stephanie Starling, and et. al. 2019. “Snake-Oil Supplements.” Infographic. Snake-Oil Supplements. April 24. https://informationisbeautiful.net/visualizations/snake-oil-scientific-evidence-for-nutritional-supplements-vizsweet/.\n",
    "\n",
    "3) M. Cvetkovic, Dragos, Michael Doob, and Horst Sachs. 1980. Spectra of Graphs: Theory and Application. 1st ed. Vol. 87. 1 vols. Pure and Applied Mathematics. Academic Press.\n",
    "\n",
    "4) Niccol, Andrew. 1997. Gattaca. Sci-Fi, Drama. Colombia Pictures. https://www.imdb.com/title/tt0119177/?ref_=fn_al_tt_1.\n"
   ]
  },
  {
   "cell_type": "markdown",
   "metadata": {},
   "source": [
    "## Citations Generator:\n",
    "\n",
    "\n",
    "<div class=\"cite2c-biblio\">\n",
    "<cite data-cite=\"8394687/SZS6I8KD\"></cite>\n",
    "<cite data-cite=\"8394687/FB5G7ZR9\"></cite>\n",
    "<cite data-cite=\"8394687/9ZZ65S4Q\"></cite>\n",
    "<cite data-cite=\"8394687/EVEKS8I8\"></cite>\n"
   ]
  }
 ],
 "metadata": {
  "celltoolbar": "Tags",
  "cite2c": {
   "citations": {
    "8394687/9ZZ65S4Q": {
     "author": [
      {
       "family": "M. Cvetkovic",
       "given": "Dragos"
      },
      {
       "family": "Doob",
       "given": "Michael"
      },
      {
       "family": "Sachs",
       "given": "Horst"
      }
     ],
     "collection-title": "Pure and Applied Mathematics",
     "edition": "1st",
     "id": "8394687/9ZZ65S4Q",
     "issued": {
      "year": 1980
     },
     "language": "English",
     "number-of-pages": "368",
     "number-of-volumes": "1",
     "publisher": "Academic Press",
     "shortTitle": "Spectra of Graphs",
     "title": "Spectra of Graphs: Theory and Application",
     "title-short": "Spectra of Graphs",
     "type": "book",
     "volume": "87"
    },
    "8394687/EVEKS8I8": {
     "URL": "https://forum.bodybuilding.com/showthread.php?t=166912491&subId3=xid:fr1605396294772jac",
     "container-title": "Cocoa as weight-loss accelerator: Study",
     "genre": "Post",
     "id": "8394687/EVEKS8I8",
     "issued": {
      "day": 26,
      "month": 3,
      "year": 2015
     },
     "language": "English",
     "title": "Cocoa as weight-loss accelerator: Study",
     "type": "post"
    },
    "8394687/FB5G7ZR9": {
     "URL": "https://informationisbeautiful.net/visualizations/snake-oil-scientific-evidence-for-nutritional-supplements-vizsweet/",
     "author": [
      {
       "family": "David McCandless",
       "given": ""
      },
      {
       "family": "Dr Stephanie Starling",
       "given": ""
      },
      {
       "family": "et. al",
       "given": ""
      }
     ],
     "container-title": "Snake-Oil Supplements",
     "genre": "Infographic",
     "id": "8394687/FB5G7ZR9",
     "issued": {
      "day": 24,
      "month": 4,
      "year": 2019
     },
     "language": "English",
     "shortTitle": "Snake-Oil Supp.",
     "title": "Snake-Oil Supplements",
     "title-short": "Snake-Oil Supp.",
     "type": "webpage"
    },
    "8394687/SZS6I8KD": {
     "URL": "https://www.imdb.com/title/tt0119177/?ref_=fn_al_tt_1",
     "author": [
      {
       "family": "Niccol",
       "given": "Andrew"
      }
     ],
     "genre": "Sci-Fi, Drama",
     "id": "8394687/SZS6I8KD",
     "issued": {
      "day": 24,
      "month": 10,
      "year": 1997
     },
     "language": "English",
     "publisher": "Colombia Pictures",
     "shortTitle": "Gattaca",
     "title": "Gattaca",
     "title-short": "Gattaca",
     "type": "motion_picture"
    }
   }
  },
  "kernelspec": {
   "display_name": "Python 3 (ipykernel)",
   "language": "python",
   "name": "python3"
  },
  "language_info": {
   "codemirror_mode": {
    "name": "ipython",
    "version": 3
   },
   "file_extension": ".py",
   "mimetype": "text/x-python",
   "name": "python",
   "nbconvert_exporter": "python",
   "pygments_lexer": "ipython3",
   "version": "3.8.10"
  }
 },
 "nbformat": 4,
 "nbformat_minor": 4
}
